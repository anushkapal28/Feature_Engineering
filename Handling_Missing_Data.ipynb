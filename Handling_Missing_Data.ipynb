{
  "nbformat": 4,
  "nbformat_minor": 0,
  "metadata": {
    "colab": {
      "provenance": []
    },
    "kernelspec": {
      "name": "python3",
      "display_name": "Python 3"
    },
    "language_info": {
      "name": "python"
    }
  },
  "cells": [
    {
      "cell_type": "markdown",
      "source": [
        "![Screenshot 2025-02-12 220958.png](data:image/png;base64,iVBORw0KGgoAAAANSUhEUgAAAXcAAAGXCAYAAABIhBB8AAAAAXNSR0IArs4c6QAAAARnQU1BAACxjwv8YQUAAAAJcEhZcwAADsMAAA7DAcdvqGQAADhMSURBVHhe7d1fSFx53u/7dx0ow7EtsWI0k8FHsSu73E6z7RAkVJ60PHNz0mAjhIZ5Qk9ovcgJBybeCacNuQ7aA7nTvunJhQk5G3egCUgLsW96sH1SBAlphx63bqtFkcduK1rBsgXLDXUu1m9VrVpW+S+a0uXnBYXWb6361Z+Q7/rWdy1/X18gEEgjIiKe8n+4B0RE5PhTcBcR8SAFdxERD1JwFxHxIAV3EREPUnAXEfEgBXcREQ96p8G9taKdsYogEKS/ppOJUCcT1WHXXmEG844fpjTPetPM3Hq7S/4ffZFm5os0N90b3rXStnf8+YnIUeMr+EdMpW2MlfzAlTcJMIH5LkOZ+/uxZY7SNibKpmhamnbvevAiMPNvaXq+9PHABOIPpnxcfOre8YjxRxirbSZg398Yp3shynDuXrne5ecqIkfSPoJ7FYOhqzSa3ZLLj7nyJkFXdTvvpxK0VNYBMLnYx/V1TCa+dX/7OXKDUHZf935jJXEWKputeZIj5jG5c8Mqo/MPub2ZGci4eS3N7QYfP/13+Jw0jz728UEcLj5N86wXQsBqNDfYP/oizeWg9XvsqY+Po5gs39of4PlXPj6fd+wbg/Nf+6yNEXj5uzTxiNk/sy13Duc8W/gjjJ2Feyagd1V30sEITUtx+mtu0HLK7JfMMwbZz8TfxsQ5699mu89JRLxhH2WZaa7H+miK9dEUG2Gh8iO6ACinpSxOd6yPpsU5GsvCpvxyFRat/buXV92TuVhz59svUBnm9bz1nJOBBrqArurcuZPLQ9sGrPhUmuqLcPMiLPzDHvXxcbePnmjuvjevWZn9+W7rZgV26LkFPM2O2wH58y99nH9qgrpDeQSWvvJxvhtiIR89rjl6otZBJW9gz+N+YpxkoIEuEtxesP8dHjNaEqHfb8YW56xgH+ujKWaC+PqQud9H02KClqDKNiJetm1wD1TesOrioU56K8sz413Vpl6ekzXD5IopF2zGSZacppUqzjDOwLpjp/1KRk3gjvN6I8j7fvcOu/CLj6Uq+PcqmPnPNFTl/9IC8OAlENlah7/zDx+ha2leXssZLiyGCdw+lhJpamrdO+zR5goL5tfWinbz7+DO1vMx5zJCnY4MXkS8atvgnlx+nMn2Mtl0aRsdJeNWhh4bYdL9ICf/aWrcYwdoMrVK4zlz8Cmb5t425wPOV1k/v4+nqYpbdfdtzfu42O3j/D98zPQ6gnkUznf76CfNTG+aZxHX43ZhJg6ha9bj7zRA/17q/v7T1GzEmfRHuFuZYMDO3DfcO+bqqr5Kjf3vuTjn3iwiHrNtcC8otWJl6KUNOZn7FpsrLJwK84nfqh3fdWT/by/IJ2V2cOujaaeTjMDSf8KDp3s8iRqF8099lLuy/AdPrZJK1e9yhnfljw0+npiyznlzgnd3gvSfbYa1Keu9bsStg6u/gQvOzD3zzSnXQso6+HWVKXMX8bq9B/f1KSYDV62v92XxHTLGaa4vJmip7WSitopvMhmjKRGcqwMz12CpOXloSkBWSaid/oLllwTfrgXpsEsNoU4maiJbAtq2TsPN2jQve9PciUB5xMqmH9VaNfeZXnO7Bk/MSdKeW9nxbNZtLqW8loYQO2b030+l+ZM9d+8uLp881UyvKb9cWDMnmjeneIUZPwuvko79ndvMZ3h/bS7zLedSahzn7iLiPYWvljnywgyGGngRG+J+3vtHVZpnvT5edsOdvPdFRN7eMQ7u5rLAzAXgrssnj7CeW2n+5LgO0n0JpojI2zrWwV1ERPLbe81dRESOPAV3EREPUnAXEfEgBXcREQ9ScBcR8SAFdxERD9o5uP/1O378//5v96iIiBxhOwd3ERE5dhTcRUQ8SMFdRMSDFNxFRDxIwV1ExIMU3EVEPEjBXUTEgxTcRUQ8SMFdRMSDFNxFRDxIwV1ExIPUZk9ExIOUuYuIeJCCu4iIBym4i4h4kIK7iIgHKbiLiHjQzsFdnZhERI6dnYO7bHHzWpqZ3jSPat1b9iACM71pnkXcG961IP017fT73eMicpwVKbinedZrBciZ3jQzt47epfaPvnAE3gjM9EKPufvgqY/z3T4+n3c8YK+icL7bx8dR94a301XdyUQoexssde8hIifBzn/E9Nfv+LFmkA///Df3lreQ5tkX8D++9PGANM96YekrK1jevJbmjgmqq1EfF59Cz600F4FQCJ5HfVyOpIk99fFx1HpsyMz6/Csfn5Pm5WfQ/6WPBwC1jvsRmLlm3m4Mzn/ts1+Qi/X6qlbg4tc+eq7BxQZ4+aX1eOv1+XjSDXfshzjnTkCPeX7n+8k8p2Pf5+Z9g/U+a+LW+wPMezTv4S9QbqbZ8twOXdWdXFrr4/o64I8wVhvm1fxDbvvbmDhXZ/ZaZXTLmJEcoWkpTn/NDVpOOcemc/cTkSOtSJm7m4+FeSuI3a6yMtrz3T5+asiWPkJATxQuN6R5EoWq30HPLcBk0eef+rj8WZqb8z5+Av5oHnfzIjBlDiL/lqbHzP0EdiyJ/ISPHtLUkGbJjFlZO8Ry9kzz7Bo8MXOfdxxYbjeQec7MwcRk7c8TOZMA1vvrMe8n9N+sIP/oM/jpK/O6YxB7mj+wb7EZ5ZtkORfeC8L6EE2xPuu2mKAlGDZjjxndWGV03mxbmgYS3F4w92OPGS2JqGwjcszsKriXX77L7Owss7P/ZGp21vzuuM38r61js7Pbn4gNwp3eNDO9sPSVFaxuXoTykFWLnulNczmY3T32Dyswxv7uYwaANBdDPl7aZY0oPMfHeeD7KfjgojX8xwb46SUQ8RHKPGeaP9np/ja+/wdcvOWj+hcfCytpagrW2H28jKX5k7sObw40dxwlnZ3E/m4ODP+ZZvU03HTvsEeTqVXzW5hBu1zjztbzaK1oN6UdRwYvIsfGroL76vN71NfXU1//Bxrq683vjtv5/7J1rL5++1JOwspon8Sg+vfZ4dWoyXLNbT917QcvgYY0N0lTDXxvzxHLfivYtt5dC1UA0TSEyB5AtnHna2tOPrMOWHYw//xLH+e701zsTTPzRXpfwXphBS7/xRyUoPDrzqOxpJyFVIKu6qvULD82mfuce7dc/gh3KxMM2Jn7hnsHETnqdhXcD9OdZ1D1b1bQe/CLj/KG3QZAH0uJNBcdJz0vk7ay+nkfz1Z8nI/4wJkJh3y7zqBZgQf4+LhAbbuQz7/08TzhzvKteWJB65vF3qS5eDpPaWc3StvoCMzxYt26u5Cy6kBdZc7MPcHPqXLOuMsuG3EmAfwNXFDmLnLsFD24W4EYbl+zSitPVrKlE2cGnM/nXwLmssSZa/DErnUDd/4Bf7rmyLrnffRHrdKJXfbZ66WM1b+3TnrO9EIIM9et9Jarfz6YMt84atO8dLwXTK3cvpTyctBk5Ntm9D5e5nwmO19d1HjOLr/AQGyI+8D9tbnM+KXUOEnH/s5tE9Vh2JziFc30hjqZOAuvnDuLyLFQpKtlZNecV/vkuy8ikkfxM3fZXuakrMna/wJxu9QkIlKAMncREQ/aObiLiMixo7KMiIgHKbiLiHiQgruIiAcpuIuIeJCCu4iIB+0c3NWJSUTk2Nk5uIuIyLGj4C4i4kEK7iIiHqTgLiLiQQruIiIepOAuIuJBCu4iIh6k4C4i4kEK7iIiHqTgLiLiQQruIiIepE5MIiIepMxdRMSDFNxFRDxIwV1ExIMU3EVEPEjBXUTEg3YO7urEJCJy7Owc3I+lIP017fT73eMFlLYxUR12j1rjoU4GS90bRESOtiIF9zCDoU4mMrc9BOJ3aX2Iplgf19fdG0REjrad/4jpr9/xY80gH/75b+4tb621op27DHHlTQKArup2LgGNARhdTtBSWcfkYh/XaWOsJM5CZTONQHL5MVfeJOiq7uTSmgm+/ghjZ+HeShW95+pynyg5QtNSnP6aG7Sc2mYMgFVG5x9y29/GxLm67P1Ns9kfYay2mQAAcwzEhrjvjzAWhFclzdZcG+N0L0QZdk4rIvIOFSlzL6ScRqJ0L0NLWZyB5VVqSoIABCrDvJ7voyk2wkJlW+FMf32IpthjRjdWGZ3voynWR9PSNJDg9oK5H3vMaEmEfr8ZW5yzgn2sj6aYCeSZeZyTB+k/G+aVmbd7OUiHXc4JNHNmxcxNmE8KvT4RkXdgV8G9/PJdZmdnmZ39J1Ozs+Z3x23mf20dm53d14nYybVp6+dKlEnnhmTUZM/TvEiWc2YfwbO1ot2UgdzZ+i75G7jANN+aLH74TZTJktO0YmXrA+sACX5O7e/1iYgclJ2D+//7f1FfX29uf6Ah87vjdv6/bB2rrz+UUo5lldd2mWS3/BHuViYYsDP3nIxcRMRbdg7uR40/wqeBBD9vwmTKLtsE6T9r18EpnD1vxK1vA/4GLjgz9804STsD387mCgunsiWX1ooIjakV1dZF5MgpUnC3rpbprSwnUHljd1fLBK5aJZXaMK/mh7gPDP82DZU3mAjd4MzaOEnH7vfX5mg8Z67GqQ7D5hSvaKY31MnEWXjl3Nm5zbwWq4Rzg5ZT5bTUdjJRE6GVaa7PT3Oh1pq3t2ya7iWrjCQicpTsfLXMUVDaxkTZlDkxKiIiOylS5i4iIofpeGTuIiKyJ8rcRUQ8SMFdRMSDFNxFRDxIwV1ExIMU3EVEPEjBXUTEg4ob3NXlSUTkUBQ3uIuIyKFQcBcR8SAFdxERD1JwFxHxIAV3EREPUnAXEfEgBXcREQ9ScBcR8SAFdxERD1JwFxHxIAV3EREPUps9EREPUuYuIuJBCu4iIh6k4C4i4kEK7iIiHqTgLiLiQcUN7urEJCJyKIob3I+MMIOhTiaqw+4NB2Avcwfpr2mn3+8eFxHZG+8Fd3+EsZoIrYXu5zXN9VgfTUvT7g0H4DDnFhHJr7h/xPTX7/ixZpAP//w395b980cYOwv3FqIMO+//CneD8KqkmZZTwMY43QtRhgkzGLpKI5BcfsyVNwmTbTfwIjbEfci5P1nRTm9luXmyOQZiQ9w3218vB2mpLAdWGZ1/yO3NfHMDpW1MnKszc5h9/c4xIzliDgrZebLPKSJSmPcy9+0Emjmz0kdT7DGjhPnETyaz7l5edew4zYtkHZdKzd3SBhqTU9wHht88pCnWR1Osj+7lIJ9WBM1OdVxgyIzDhfeCBeYG1q39mmJ9NC0maAmGzdhjRjdWGZ0320y231Ud4bU9tggduyrxiMhJVvTgXn75LrOzs8zO/pOp2Vnzu+P2P18x6R6bnWX2x8fs+VTsxjgD6wAJfk6Vc2ab2vb9tTkay6wg2lVWx+SaKav4I4yFOpkIdToyeIA5vjGZ+fCbh9ksPS9Thw91bs3WtwhzKVBOS+1u9xcROQLBffX5Perr66mv/wMN9fXmd8ftv16g0T1WX0/9hzc4wGLOVutTTAYa6CLI+yVzvFjHOuF5tpmFRTtzd2Xku9RVfZWa5ccmE59zb85jjgE701f9XkR2oejB/cBtrrBwyi65QOt7YQKpFav+vifTDCzD+6UNnFn7wVHjXuX1JkCQT8qcmfveLKSszL6rzJmJ5/tGEef1hqNEJCKyC94L7kxzfTGRKWP0ViYY2C7TNWWW3spyApU3mAhlL0Uc/i3OhXNhXv9ml1gSfLuGmbsN1nbIugvMfX9tjsZz1uu7lBon6XiIc5t1+WSC27+OU2OPhToZy9T5RUTy897VMiIi4sXMXUREFNxFRDyouGUZERE5FMrcRUQ8SMFdRMSDFNxFRDxIwV1ExIMU3EVEPKi4wf1QOzH18t1+FhcTEfGA4gZ3ERE5FAruIiIepOAuIuJBCu4iIh6k4C4i4kEK7iIiHqTgLiLiQQruIiIepOAuIuJBCu4iIh6k4C4i4kHqxCQi4kHK3EVEPEjBXUTEgxTcRUQ8SMFdRMSDFNxFRDyouMFdnZhERA5FcYO77FprRTsToXb6/e4tu1TaxkSo8+3mEJFjQ8F9T8IMhjoZqwhad/0RxmoitLp3OwTDbx7SFHvI7U33ll1aH6Ip9pjRDfcGEfEiBfe92phjoaQhN6C7gnxXdSeDpdBV3c5gtcm4K6zMebAUIEh/TeeWTLqrupPBighjIWubfRCxsvZOJkJtdGWelMzBJnebc8xxIBKRE0XBfc/ivEiF6Sh1j+dTTiNRupehpSzOwPIqNSVBWivaOLPSR1Osj6b5aS6czR4YGsvgXqyPpvlxKLMOIlbWPsJkztxB+muuwqKZJzbEfQCmuR6zx0ZYqPzIdUAQkZPA28G9/F+5OzvL7OwsU+Zn7u2f+cd3OBE7+SYKp3dXjplcm7Z+rkRNcC7nk7JyGs+Z7Lq2mYBz/5UowwCbUa4smN/z8TdwgXEG1t0brG8AVuZ+lUb3RhE5Ebwd3Ff/g3v19dTX19Ngfube/pB//MMb/M09V45pXqTCfLLvE5OrjM7b2XUfTdsF8b0qbaOjZJxuk7nnZvsiclJ4O7gfovuJaS6cDlt3NldYOFVlZcmlbXQ4U/EtVvk5Vc6F996yFr45xSua85eHUivWwaK0QZm7yAml4L5fm1G+SZWbkso0L5J1dIQ6mTgdZzTp3jnX/aURFipvZE56TlSbg0QBVpnlKo2Y56gOAwlu/zpOjV3esU+ork8xGbhqjZXFM1fHWCdlb9ByqpyW2k4m3tFVPiJSHMVd8vev3/FjzSAf/nn7Isj+9PLdj//C4I4lFhER71HmLiLiQQruIiIeVNyyjIiIHApl7iIiHqTgLiLiQQruIiIepOAuIuJBCu4iIh5U3OB+bDsxHebcIiJvr7jBXTwuSH/NHjo/FWx+Ytao32GZBhHJUnA/Qh59keZZxNyJwEwv9Lj2OWjZ5YGPcnMPs0b9krV8sojsrLh/xHRs15Y5jLnTPPsCqlbg4tc+eq7BxQZ4+SXcIc2zXggB4ONJN9wxB4PLdiyOwfmvfRCBl79LE4+Y/e3x7fgjjJ2Fe2bp4daKdjpKEjQG6phcHqemshmWH3Ml9RFjJXEWKptpBJLLj7nyJkFXdSeX1vq4vu6Ya6WK3nN1uc+THKFpKU5/zQ1aTjnHpumq7tyymubkYh/X18MMmnXp7eezZMetJZQfcnszSH/NR7AWpKWy3DGeM63IiaDM/Yj5CR89pKkhzZIZ67kFS1/5ON/t4/xT+NMt63j8+ZdmrNvH89PwqNbavzxi7w+xkG9f2X9jSZzuxTkaK6v4ZnGOQEkVAIHKMK/n7S5PbYVLLpmerY6165emrdUsF+y17B8zWhKh3w/3l6zuU8kNey16c7AwWXv38mrO9F3Vji5UiwlaMt2s6mgpidIU66N7mbdfWlnkmFJw369D6vL0/T/g4i0f1b/4WFhJU1Ob5mIILv8lzUxvmplr2S9aN6+ZsV5HBo+VrX8+D+BjKZGmxgT9vUiuTTEMJJd/MO377A1RkwlP8yJZzplCwX0b2Z6wjgx+T8JcCszxwu5Ctf4Do5j19FllNGGVb4ZTicxBSeSkUXDfr4Pu8lQLVQDRNITgZdS50ccTk6Gf7/ZZZZbaNLcj2fHndrXinVrl9V5LHv4IdysTDNiZu1lvXkQOloL7UbICD/DxsampW6zs+6J9otUpkWYGoDbNB++6+uCP8Gkgwc+bMJmyGn9DkP6zzp6wCX5O5cnuN+JW+z9/Axecmbuzo9W24rzeqOOS3YWq9CNaMHOKCCi4H33Vv4fP/ztUOUowL68B8z5+Au70ppn5DH6KuR+5O13Vpkn3qWZ6d3O1jN3lqTbMq/kh7gPDv01D5Q0mQjc4szaOsxHV/bW5bDPw6nCmPWBvqJOJs/Aqp2uVo6NVqJPBUnOCNtRJb2U5gcobTITa6fcnuL0wAva852DgIPvQiniArpbZl8Oc+wgrbWOibEqXJIocA8rcRUQ8SMFddm99SFm7yDFR3LKMiIgcCmXuIiIepOAuIuJBCu4iIh6k4C4i4kEK7iIiHlTc4K5OTCIih6K4wV0OzKMv0pklfyHNs940M2Zp4GOjYCem/LqqzRIFLtaqk3voACXiQQruR8jBdWLy8bG9euRBMuu8ZDs3tdHl3ucIGH7zkKaYmnTIyVbcP2LS2jIOe+/ERISc9d2ff+Xj8/nsvqtRHxefmo1594VHXwBTaS6bg4o9vp2czkuEGaxpAOpoZJzRVDMtgTkGYj/wfk5XpDkGYkPcd3V9sud6UbZzJybsbky/NTBW61x9EtgYp3shChXt9Dqfz2xuzYxnuz9R2pbTWSozLuIBytyPmF13Yqq1Vofcup67lbX35KwHD0TJrgf/1Mflj+1An+ZylbWtJwofXHQ9bjdO1cHKY0Zp5kJqhNGNIO/7cXVFCtKxTYPrnToxWZ2bRlio/IiuzShXYn0MJK0DQFOsjyZzsLCy9pHc5X/9Ee6WTZt5HzNacjVTznF2lpoMNBzJbyIi+6Hgvl/F7sT0ex9Eneu+78TU4V3dnACeP7PKNw9+8VFetZ8vcnZXpDm+eRN3jDu6Iv02TbLk9K7r6U7ZJt7ZDH4vWt8Lg+ksBQlur8yZ9eednaXivM4clESOPwX3/SpyJ6abv9tbEO65BVXRbOZeFKmVva+5XtpGR4mdzbsychEpSMH9KNlDJ6YHv/gob0hz0/RSzemhWkD8F+tnz3/b24HhIHQFmyEVz+22VNqWW2cv1InJPiiUNuRsy3aA2t5wKkGgrMF8awjSf7qOhVRR+hKKvDMK7kdcwU5MUXiyYnViulMFT+xOTLVpXvamuROB8oi1/6NauPMPHyEzx8U4rLqeZ1fM1TIdAUx3pZ2ulimnpdYqqXQwwpU3idxuS6fjjO7UiWl9ikm7+1NZPKfnarYDVCcT5hJKq4RzlUbMPNVhWB+iey1sdX8K3eDC2mNTzxfxLl0tsy+HObdXBOmvaYNfdUmiSDEocxcR8SAFdzkkCW4vKGsXKZbilmVERORQKHMXEfEgBXcREQ9ScBcR8SAFdxERD1JwFxHxoOIGd3ViEhE5FMUN7nLIrLXd99fw4+1ZHZF2s0zB0VOoy1NeBTtIhRm0l0AQeccU3I+Qm471Y+w1YY6OMIPuIF3atm3gyru2+gHJHjjMbZvXUTxmLXo1AJEiKO4fMWltmRw3r6X59198fBy1fr9ThbW87zVrITCL6cRUm+blx/DTaawVIRPQ86WPB2aeLfvndHMyHZdI8/JjH/FQmlAMnp+Gy2TnccvtwOS4TxsT5+rMXquMzjv/MjXMYKiBF3ZXpAKdmK6vm4OFPc+uuiLlmTtYxUKgjsbkOKMlzbQwTvevcDcIr0qaaTmV24lpomzKPI9ZC2d5mgu/36nLE5lOT1Tv3EEqufzYLJpm6XI8xt7WVd3O+6kELZXW+7fmyDxEZM+UuR9hq3HTRONpdi33nmiaj6+ZHUJQ/XfTiQn4Y63VTu9OA/R0+zjfDfZikT23AHuepz4uf2YtF0wozdJXEAtB9d8hFvRx3n4BLvfX5mgsszPkMJcCpknH+pDplNRH02KCluB+sugwg6fjmS5MA2S7Je1JIMjr+REmA82cWRlh0l5CONDMmZWtnZi2+N87dXmyxrqXg3xaEdyxg1T3smv9zdI2OhhxdJZqM428y2kpM+9/0fk5i+yPgvt+HVInJntZ3jtVZPufmmV8Z8xSvhkJ+B+mqcfCirU88M3fpYn93Z15p7kY8mUbgEThOSaIJ+D7+dy5ClqfyraiK22gMTllepSa2nKo05HB71FpA42nms2yvFuz4V3bmObbTSvbHnBmvpn7Cb5d29068Fs4GoRnM/i96SqrY3LN/kYyzcAynDHdnyZXrIMIm/F9d60SsSm479dBd2IyYk99nP8KVk9jZdbAo88gbrLuLb1RXc5XuUcOkrXe+qXS3CDVVX2VmuXHJnOfcz9o95J2RuvMgA/H3pt1BOk/28yCyea3ZOQiR4yC+1E07+PZCvy7I0tf+k/r5x8bsmP5zMQhZDot9dyya+yubk4RuEyaGcfjdssqzbRlSzKGHSy7ynbI3At1YtqMk3wnDarDdFTC683cDLm1os2qxxv5uzytWo8jyCdljsy9UAepPCZTqzmlrcxrETlgCu5H1J1nUHXNuozx+6lsg2ymtu9/+uCpj+enYaY3zcdxeG4S1M+/BOyrca7BkwInTXe0PsVkoM5RkjEB/5xVrriUGsdurpS3K1KhTkybUe4tBzNdmCZC7aYWnZ91tYx77m1kSj5XYdGc8N2c4hXWeG/J9A5dnhJ8u4bpLNUGa85vKHk6SJkSTm9lOYHKG5n3M/zmIQOYzlLO1yJywHS1zL4c5txy4FxX6IicBMrcRUQ8SMFdvG8zyhVl7XLCFLcsIyIih0KZu4iIBym4i4h4kIK7iIgHKbiLiHiQgruIiAcVN7irE5OIyKEobnCXA/Poi7dp7hGkv8b+s/99dk0qbcv+6f2OgvTXbL+8QK6tHY321CkJD3ZLKvh+8iv0eVnLOOzl30KOCwX3I8TdiemlvW77YSv9iJaUvSKjaXyRh7VWTPaWEyzMmu6Hs5LjYXY0Oqy5Hcsg72KtnGKx1qjX+jZeVNw/YtLaMjluXktzG192HXfj0RfAVJrLZlXH51/5+HzeWt1x5lr2ny8znle2M5C7W1JrRTt3GcrpFpRPTtckf4Sx2jCv5h9y2293UMrXhcn1nJl9HZIjNC3BYKiB18tBWirLHXPl72jUVW0tUlZTaXVNsjoXmW5Kv5rXYDotDXB1y/rw23dLyvO6N4P013wEa+7XlzPtFu7Ptqu6nUtAYwBGl63OS5OLfbwoc3Zicj7n/t4P9nv6rYGx2p06S1ldpeyDequz45Sja9VYSZyFymZr/l11ypJiUuZ+LKS5XEVmPfcPLpoGHtfgienQZK/+WEhX9VWwOwstJmg5G6F1y8qFnYxVuJe5LWAzyjfJci68FzRZ++OcVRVxP6edHWb2XWV03mzLBIk6LmB9A+hexpq7UEcjoLEM7sWsTkg1pwuXKPbaLSnvZwVAHS0lUdfr26tyGonSvQwtZXEGlu2lhZ2dmJzPudVO7yfb5ekjujZ36izl6nHrj3C3bNrMm9u1KlAZ5vW8NXemaYscWQru+3VInZjKI/nLMs+fmZZ7v/gor0rD730QhTvZXbbhaIkHsP4Do1TRaP7jdy+vkjTNNnbK3p0mU1sDrpO9FPCuDxjM8Y15/uE3D3d8LdnORbtfT31nBT4rsDLqhHUgGk4lCJTsrzOK3eRkciWaE1gz72d9KtsecI+ypbNsBr8Xre+FYW3KrMOT4PbKXHZd+2TUfFOJ83ojyPtHsMwkWQru+3VInZhWo9l+qe7yjNPN3xWvmmZrLCnfvqORqcPfYy8nWwWAjXhuRr0bpW10lNjZvCsjlxNHwf2YevCLj/IGq8n1zWtpLm+bHMd5vWG1xwNzApV9BA+n0jY6XN2YChl+85DuTPkBIMHPqfJM79C3lunn6pw3zKCztr/r7P4QPqs9aq2I0JhaYXg/7ye1YmXdpQ052/J3ltpqOJUgUNZgSkJB+k/XbX8AlyNLwf2IKVSW2SIKT1bgjmmm/STm3sEpwe2FETDdkibOwcA+l8C1Oy5NnCNzEs66nO4GLafKrU5F5hI959U1vWXT3HOUWZzdm7a9DHHLeYHsVSc5r8XU7bPzRni9vJ9uSQf1WVlXy+R73YXY76e3bJru/byf9SkmA6bLU1l8h85SBTplrQ/RvRY2XatucGHt8SFdASWHTVfL7Mthzi0nUc6VSCIHQJm7iIgHKbiLHAH3l5S1y8EqbllGREQOhTJ3EREPUnAXEfEgBXcREQ9ScBcR8SAFdxERDypucD+2nZhERI624gZ3ERE5FAruIiIepOAuIuJBCu4iIh6k4C4i4kEK7iIiHqTgLiLiQQruIiIepOAuIuJBCu4iIh6k4C4i4kHqxCQi4kHK3EVEPEjBXUTEgxTcRUQ8SMFdRMSDFNxFRDyouMFdnZhERA5FcYP7SVDaxkR12D16yMIMhjrf4nmD9Nd0MvFWc4hIMSm475kj8B3Z4DfN9VgfTUvT7g27lOD2Qh9Ni3PuDSJyTBT3j5j++h0/1gzy4Z//5t5yAHr57sd/YfDDGxzk7F3VnXQw4gqcQfprbtByytxNjtC0FM8dA2CV0fmH3N507m+PAf4IY7XNBDL7zzEQG+J+zrgZI8xgqIHXy0FaKssd84QZDF2lEUguP+bKm0RmttaKdnory8GxzTmWndsobWOibOotDhIiUizK3PckzKXAHANbgp3JdGN9NMUeM1oSod/vyH6TI2abFcRbK9o4s2L2n5/mwtkIrQTpPxvm1bw1PpCEycUh7rvGu5eDdGS+LdRxgSEzDhfeC2ay9u7l1dyXWNpGb9k03TFrHjvoD795aF6bNfenFcHcx4nIseTt4F7+r9ydnWV2dpYp8zP39s/844VOxPpPU7MRZ9I9brJiq1TjztbdgnxSVk7jOVPWycnU8/A3cIFpvt207g6/iTJZcppWAOb4xhGknVm6W1dZHZMrUYbdG/wRxkyJKZvBi8hx5+3gvvof3Kuvp76+ngbzM/f2h/zj25VyTlXR6B7zR7hbmWDAztw33Du4rTJqMvGmWB9NC1GGSfBzqpyWWivQdjDC9XX34w5akP6zzSws2pm7K9sXkWPL28H9oG1O8WqjLn/pws7o/Q1ccGbum3GSmUwbMEHcKqE4hblUMp4pm2Tq3JsrLJwK84nfuttaEaExtbI1A9/B/bU5Gk9HHK/DtsrrTTLfKETEG3RCdc+yJywhz8nTjXFGU2FImJOkOSdbt570zM4xbZ2sddZozHjOidaNcboXogybE6ovnCdAyXdSNnvC1jn/1hOqq4wuJ7jAD1x5U5X7+oDJxb538E1CRA6KgvtR4Y8wdhbuLZi6uPu+iMgeqCxzVGxO8Ypmeu3r52ubWch3AlREZBcU3I8M5+WU1k1lEBHZr+KWZURE5FAocxcR8SAFdxERD1JwFxHxIAV3EREPUnAXEfGg4gb3Q+3EdJjU5UlEjrbiBnc5MI++SPOo1j1abEH6a9rpN+vi7MgfYawm3/o3b9tZSuTkUXA/Qh59keZZxNyJwEwv9Lj2OWhd1Y6uUqFOxvItilZ0b9tZSuTkKe4fMR3q2jKH6TDWrUnz7AuoWoGLX/vouQYXG+Dll3CnNs3Lv4C1ZqOPJ91wB3MAuJb953v+lY/P5+HmtTR3zEFiNerj4tPMLvm51rFprWinoyRBY6COyeVxaiqbYfkxV1IfMVYSZ6GyOafTU1d1J5fWzF/U2nOtVNF7ri73edyLrGXG8iyallmsrFBnKefia84OVx/Bmrs7Vc60IieCMvcj5id89JCmhjRLZuzRZ/DTVz7Od/voiab506001KZ5eQ2edFvjz+2YV5vmdhWcN+M/NeyvXNNYEqd7cY7Gyiq+WZwjUFIFQKAyzOv5PppiIyxUthUuuawPmbXtHWvXL00X6FoF95f6aJofJ7mRXfbYWn4hf2epruqrYNahb1pM0HLWLufU0VISdXWnEjl5FNz366C7PBnf/wMu3vJR/YuPhZU0NZfSfAB8P29tf/AUYqfh5u99EDUZvMPNi1AegpneNDO9aS7vM7Yl16YYBpLLP+QuKZyMmkx4mhfJcs4UCu7b2H3XqkKsdocv7LV31n9gFLuJyiqjCat8M5xKZA5KIieNgvt+HXSXp1qoAoimIQQvo+4dcl36XeFq2mrUytrt2+fmwHDw7EYfe7DnrlUish8K7kfJCjzAx8d2TR3gF4gH4Y+mtHLzGoRW4P/5xUd5Q5qbWDV2O0N/4Bg/VP4InwYS/LwJk6lVakqCmbZ92dK51XVqS3ZfsGvVCgv52hhuEef1Rh2XSs3d0o9oIX9vW5GTSsH9iKv+vY+Pv4IP/mKVWe40QM/XVknmyQrc6U1zpwqexMwDHONWaWb7K266qk2T7lPWWvI7Xi0TuGrWmw/zat7qAjX82zRU3mAidIMza+MkHbvfX5vLNgOvDueuW38WXjl3ZpoXyTo6zJU7g6XZBt69leUEKm8wEWqn35/g9sII2POegwE1NRHJoatl9uUwrpY5BkrbmCib0iWJIseAMncREQ9ScJfdWx9S1i5yTBS3LCMiIodCmbuIiAcpuIuIeJCCu4iIBym4i4h4kIK7iIgHFTe4qxOTiMihKG5wl127ec1aTmA/y/dmRKzVIjMNQYqlYMelE6K0bQ9dpQp1swrSX9PJxEn+HGVbCu5HyHadmB48PYAVHqPWOu8f77Di5H7kdHQ65gEnuySxY02cI8esi681daSA4v4Rk9aWcSjciWkm01nJ0YUJVyemBPR86eOByfLtTkzE4PzXvpx97Y5NAI++AKbSXDb75+vmlDNPHq0V7fSWTdPtCjStFe30Vlr9o2COgdgQFOy4ZDJau3uT6dCEOXA4H2N1ZKrK04nJ2vdSyuoeFTD73qON3pJoZr7WinbuMuTo6pRPmMFQAy9i1uJo+COMBatYCNTRmBxntKSZFsbp/hXuBuFVSbO1Nr39unPW4QnSX9MGvw7BWfca9ua1+x3vPe+Y4e5m5ficcH1W2U5Z7byfStBSac2V+bzF05S5HzH5OjFZWTvYCz9a0jxzdGI6bwI7tWluN0CPPW4HZJO1Zzo2ZaS5bDo39UThg4vuOSCGjycFAjsE+aQMRn/dmkEOv3loOi710b0c5NOK4DYdl8IMno5nxga4aq0KWdpGByPWPOZx994ktunEBI1lcM/sT1kDvIkyGWigC8zrTfDNtoG9gECQ1/MjTAaaObMywqS9PHGgmTMrdmcp87rzMtn24pwVlGN9NMVMG8D1ocxn1bSYoCUY3rmb1eJc7vTOzyqnU1Y5LWXms12co7HsKH4TkYOm4L5f76oTU8Eau4+XsTR/ctfh5338BNzZYalfp+fPrMD94Bcf5VV7/SJXxZlT1rruW5jleifMkr3bKm2g0Sw7PBHamt3n2q4TE0yumAPNZpQrC1GGmeZFMsj7frOGfGoqt7vUbm1M8+0msDHOgDPzzdxP8O2avbb9XoUZtMtA7mx9l7rK6phcs7P4aQaWyayln/1M4iRLTh/rspnsjoL7fhW5ExPAna+t7JzPctdt//xLH+e701zsTTPzxT4ad8xbDUKsNeGBp1vb+eUygdM11n+2mQWTXbt7oOaVyWYdGf1mnKRzDfk83xB24/5aggvvBWl9r4pXpg3fYVlI7f1bQVf1VWqWH5vM3ZWRi+yDgvtRkq8T0y58/qWP5wl3lm/NEwv6OO8c3o2IjypHq77tT8BavVRbgvm+6ttt+IJ8UubI3PN1XNqMk8yUTrJa3wtnDhCZEsZ+OjGtT7FQ9hEdJXEr+z4UYToqsd6zI0NurWjLrbMXyJ7tg0JXmTNzL9DNKo/J1Kqj5OJ4LXIiKbgfcdW/h55bVgYdwirDzNxKWzX3TLelNB9MmZOktWleOrow2Vm3fSnl5SBc/ssOGX00TTySnXunyyfvL1m15tyrZRJ8uwYttZ1MhNpgzZmN5um4tBnl3nIwM2Z1XLK6PNXYHZcy4/vpxDTNi1QdNSmr8fd2rKtlrtKIeY07XS2TKSddhUVzAHJ0nOotmc7tFevsRmXep7Nj1aXUDt2s7BLOubpMZ6zBUuscxwD2v4PjtciJpKtl9uUwrpY5Om5eS3MbHxef5r//LnVVd3JpLXt1h/v+7gXpr/mInxfM1S8HxR9h7Czc2/HgIvJuKXOXLR68BByZ+52Ij2dFCOy4s9ZQJx0lrpOZu2Bdg3+DMysHHNhFjjBl7vvi7cxdRI6/4gZ3ERE5FCrLiIh4kIK7iIgHKbiLiHiQgruIiAcpuIuIeFBxg/ux7cQkInK0FTe4i4jIoVBwFxHxIAV3EREPUnAXEfEgBXcREQ9ScBcR8SAFdxERD1JwFxHxIAV3EREPUnAXEfEgBXcREQ9SJyYREQ9S5i4i4kEK7iIiHqTgLiLiQQruIiIepOAuIuJBxQ3u6sQkInIoihvcj4Qwg6FOJkKdjFUEc7Z0VXcyWJozBEBrRTsToXb6/e4tb29Pc/sjjNVEaHWPi8iJ58HgHmbQERxbK9qZ2DYATnM91kf38qp7Q0HDbx7SFHvI7U33lrd3mHOLyMnhveDuP03NBpx5LwgE+YQEk2zNcgtl5WD2DXXSEYDGc1ZWbx8grMy6k4lQG11m99aK9pysP3s/+63A+c3A2h7JbqsOZ8bdc+eOZ7d1VXcyUdtM4FQzvWab/X6c+7u/jYjIyeC94A6QmuZ1SQOt/gZITbm37mwzypVYHwNJmFzsoynWR9NClOFMZj1iHTCM4d+moazBHDiCfFIGr35LZL4VNMX6aIqNsFD5USZoByqreGHGJwMNdBWYm8y4NU/3cpBPK4LcX+qjaX6c5MY43Wbb9XXrwHS3JGr2f8yrsrbdlXhExFOKHtzLL99ldnaW2dl/MjU7a3533P7nKybdY7OzzP74mMKnYlf4NlVFR7AKNuO8popG9y4HaXOKV4T5xA/4G7jANN+askpXtZ1xX815DcnlH7gP5gAwZH4vwHyTmAh10ltZ7t6ao/W9MIHAVfOcN2g55d5DRE6Cogf31ef3qK+vp77+DzTU15vfHbf/eoFG91h9PfUf3uBv7skA/FUEgOHf4tSUxDNB9nAl+HYNLrwXBH8VrE0xDFDaRkeJnVlvzch3J0j/2WYWzDeI3ZwbSC4/zmT6qt+LnExFD+6HIZmKW6UVU0oBYHOFhVMmgy9toyOQ85C8JlOr1JTsrmY9/CbKQkkVXWXwzZtEdkNqxQT6hrf49rDK601MyceRuTvfkzGcShDIlIhE5KTyZHDfKsj7/mleJOvoCHUycTrOaNJsMiWP3spyApU3ci5DHP5tGipv5JxQtcosV2nEzGVOhsI0L7hKB1PZEsv6FJN2iaQszuiGvSG//HNb3wpaaq2TqazNOR7heE/2CdX1IQZS2ZOs7pOzInIyFHfJ379+x481g3z457wFFhER2acTkrmLiJwsCu4iIh5U3LKMiIgcCmXuIiIepOAuIuJBCu4iIh6k4C4i4kEK7iIiHuTh4N7Ld9suLiYi4l0eDu4iIieXgruIiAcpuIuIeJCCu4iIBym4i4h4kIK7iIgHKbiLiHiQgruIiAcpuIuIeJCCu4iIBym4i4h4kDoxiYh4kDJ3EREPUnAXEfEgBXcREQ9ScBcR8SAFdxERD/JwcFcnJhE5uTwc3MWtq7qTwVL3qIh4kYL7ngTpr2mn32/d66ruZKI6DKVtTISy460V7YxVBGmtaGci1EaXefROwdXavzN7qw67dxER2RUF9/0qbaODEZqWpgFIJhOceS/o3ovJJFzaJqA7Db95SFNshEnmGIj1WXP7I4xVtzEY6mSiOkJ/TScTNRFa/RHG7PvOA0Fpm+OgYA5G/2eEsVAnHQFoPGf2r4nQCkDYmjvU6TgQhRkMtdGfOdhkD1wicjwouO9LmMHTcbpNYAcgNcXrso8yWXrG2hSctgPpPgWCvJ4fYTLQzJmVESZPVdEIEGjmzEofTbHHjJZcLfyt4H9HuRLrYyAJk4t9NMX6aFqIMgx0VUd4PW/GFqEjc2Co4wJDNMX66F6GC3kOXCJydHk7uJf/K3dnZ5mdnWXK/My9/TP/+LYnYstpqY3w+lcrOGbFub0Cn1a4g+A0A2thOgoF3t3YmObbTWBjnIF157h9P8G3a6vUlLifeydhLgXKaak1mfu5Ose2Ob55kwDzjeKK+V1EjgdvB/fV/+BefT319fU0mJ+5tz/kH//wBn9zz5WxyujiNBfO5snG16dYKGuwsmqH4d+mqSk7/Pr5Qmo/AdiUgOyb89uIiBxb3g7uh2UzypWVKnq3nPC0svRPy1zDm1G+IcKnJa7xAxOmoxJebwKbcZIlp2kFWivaaDmV3Wsy5c7u47zeqNv1OQEROT4U3PdrfYgBrjpOTFqG30RZOFXuGLHcT0yDI9DmY10tc5VG6ujYzdUyp5rpDXUyEboKiw+5vQlsTvEKa7y3ZJrRjezuw79NQ+UNxwnVBLd/HafGPska6mRsS1lJRI4jDy/528t3P/4Lg9uWWI4xf4Sxs3DPnBgVEXFS5i4i4kEK7sfVZpQrytpFpAAPl2VERE4uZe4iIh6k4C4i4kEK7iIiHqTgLiLiQQruIiIe5OHgrk5MInJyeTi4v2P+CGOupQgOTm6TkNxx59rsx8ShflYigoL73nVVOzolFX0tlgS3F7Jrsx8cZwMPNesQOY48/EdMh7i2jGtdl65qq8uR0+RiH9fXrcXAeiuthcSSy4+58iZBa0U7d5lmobLZWh44aXV0cu5rLcU7xP3SNtc66/b+cfprblirPprHY17LpTXruXPvB7P7s8rovFlobBvW6xzKrOXeVd3OJaAxAKPLCVoq65hc7ONFWTvvp6z72bmD9Ne0wa/meUrbmCibYoCrBT8rnO/Vfk/ms36VaqYlQPZzyZ1CRFyUuR+A+0t9NM2Pk9wYp9usi3593ToI3C2JmrXSH/OqrC2TAQcqq3gR67Pa6gUa6Mq02bMe370ctBp/rA9ZnZY2Vhm1OyYtTWez9sW53NeyNkdjZu34MJcCc7xYt5b/tbo29dE0X2A9+h2V00iU7mVoKYszsGwvIVxOS1nceu+LCVq2mbvgZ2V3tzJjAzg6S51q5syaGU9qiWKR3fB2cD+UTky71/pemEDgqilt2FmzJbn8g8k+p7luZ6J+q9fpRKjTkcHv0fpU5mBBaQONySnuE+STsvJs/9TaZlzJ865NrlnfECZXokw6x1dMaWh9KtsGcC9KG2jMLGHs+ibk6EB1fyn7rURECvN2cD+UTkx7k1x+nO1yFNuuFBKk/2wzC6bHaffyqnuHXZrmhcluW0uCmWBslUscHZcOvE7vsBHPCfy7lhxxfFYK4iJvw9vB/V3aXGHBlbEOpxIEyhoKlii2WrW6KZlMOyvBz6lyzuzypOb9xDiUhPmkZDrTY/XnVPk7aXLdWhGhMbXCcM5rDjPoPG+Q57NiM07S/sYhIm9NwX2PuqpNWcOUELJXy1gZc4cpKwyWmm5NqWypYSLUtk3wSvDtGqZZdRus5aml22WV6nD2ipZzdWBKP5ka9eYUr8uuciE1lcnO7y+NsGB3YcrMUYg1d29lOYHKG7u6WsZ+bb1l03Sbk7vZ1xzh9bLz/eT5rDaj3FsOZsZ285wiUpiulpG35r5CR0SKT5m7iIgHKbjLW9MVLCJHj4fLMiIiJ5cydxERD1JwFxHxIAV3EREPUnAXEfEgBXcREQ9ScBcR8SAFdxERD1JwFxHxIAV3EREP+v8BofUQTqj5uh4AAAAASUVORK5CYII=)"
      ],
      "metadata": {
        "id": "t0ejH1qIADxl"
      }
    },
    {
      "cell_type": "markdown",
      "source": [
        "# Remove Rows/columns with too many missing values"
      ],
      "metadata": {
        "id": "nDC8ofokC6qM"
      }
    },
    {
      "cell_type": "code",
      "execution_count": 1,
      "metadata": {
        "id": "JiTDn5sY_yCg"
      },
      "outputs": [],
      "source": [
        "import pandas as pd\n",
        "import numpy as np\n",
        "import seaborn as sns"
      ]
    },
    {
      "cell_type": "code",
      "source": [
        "df = pd.read_csv('Titanic-Dataset.csv')"
      ],
      "metadata": {
        "id": "YVWa3fBFDXDT"
      },
      "execution_count": 2,
      "outputs": []
    },
    {
      "cell_type": "code",
      "source": [
        "df.head()"
      ],
      "metadata": {
        "colab": {
          "base_uri": "https://localhost:8080/",
          "height": 206
        },
        "id": "Mg3JG3eGDewC",
        "outputId": "4e1932ab-9472-4efe-9c8d-a778a18f88e0"
      },
      "execution_count": 3,
      "outputs": [
        {
          "output_type": "execute_result",
          "data": {
            "text/plain": [
              "   PassengerId  Survived  Pclass  \\\n",
              "0            1         0       3   \n",
              "1            2         1       1   \n",
              "2            3         1       3   \n",
              "3            4         1       1   \n",
              "4            5         0       3   \n",
              "\n",
              "                                                Name     Sex   Age  SibSp  \\\n",
              "0                            Braund, Mr. Owen Harris    male  22.0      1   \n",
              "1  Cumings, Mrs. John Bradley (Florence Briggs Th...  female  38.0      1   \n",
              "2                             Heikkinen, Miss. Laina  female  26.0      0   \n",
              "3       Futrelle, Mrs. Jacques Heath (Lily May Peel)  female  35.0      1   \n",
              "4                           Allen, Mr. William Henry    male  35.0      0   \n",
              "\n",
              "   Parch            Ticket     Fare Cabin Embarked  \n",
              "0      0         A/5 21171   7.2500   NaN        S  \n",
              "1      0          PC 17599  71.2833   C85        C  \n",
              "2      0  STON/O2. 3101282   7.9250   NaN        S  \n",
              "3      0            113803  53.1000  C123        S  \n",
              "4      0            373450   8.0500   NaN        S  "
            ],
            "text/html": [
              "\n",
              "  <div id=\"df-875166b5-2af0-4331-8d59-493b89b577f7\" class=\"colab-df-container\">\n",
              "    <div>\n",
              "<style scoped>\n",
              "    .dataframe tbody tr th:only-of-type {\n",
              "        vertical-align: middle;\n",
              "    }\n",
              "\n",
              "    .dataframe tbody tr th {\n",
              "        vertical-align: top;\n",
              "    }\n",
              "\n",
              "    .dataframe thead th {\n",
              "        text-align: right;\n",
              "    }\n",
              "</style>\n",
              "<table border=\"1\" class=\"dataframe\">\n",
              "  <thead>\n",
              "    <tr style=\"text-align: right;\">\n",
              "      <th></th>\n",
              "      <th>PassengerId</th>\n",
              "      <th>Survived</th>\n",
              "      <th>Pclass</th>\n",
              "      <th>Name</th>\n",
              "      <th>Sex</th>\n",
              "      <th>Age</th>\n",
              "      <th>SibSp</th>\n",
              "      <th>Parch</th>\n",
              "      <th>Ticket</th>\n",
              "      <th>Fare</th>\n",
              "      <th>Cabin</th>\n",
              "      <th>Embarked</th>\n",
              "    </tr>\n",
              "  </thead>\n",
              "  <tbody>\n",
              "    <tr>\n",
              "      <th>0</th>\n",
              "      <td>1</td>\n",
              "      <td>0</td>\n",
              "      <td>3</td>\n",
              "      <td>Braund, Mr. Owen Harris</td>\n",
              "      <td>male</td>\n",
              "      <td>22.0</td>\n",
              "      <td>1</td>\n",
              "      <td>0</td>\n",
              "      <td>A/5 21171</td>\n",
              "      <td>7.2500</td>\n",
              "      <td>NaN</td>\n",
              "      <td>S</td>\n",
              "    </tr>\n",
              "    <tr>\n",
              "      <th>1</th>\n",
              "      <td>2</td>\n",
              "      <td>1</td>\n",
              "      <td>1</td>\n",
              "      <td>Cumings, Mrs. John Bradley (Florence Briggs Th...</td>\n",
              "      <td>female</td>\n",
              "      <td>38.0</td>\n",
              "      <td>1</td>\n",
              "      <td>0</td>\n",
              "      <td>PC 17599</td>\n",
              "      <td>71.2833</td>\n",
              "      <td>C85</td>\n",
              "      <td>C</td>\n",
              "    </tr>\n",
              "    <tr>\n",
              "      <th>2</th>\n",
              "      <td>3</td>\n",
              "      <td>1</td>\n",
              "      <td>3</td>\n",
              "      <td>Heikkinen, Miss. Laina</td>\n",
              "      <td>female</td>\n",
              "      <td>26.0</td>\n",
              "      <td>0</td>\n",
              "      <td>0</td>\n",
              "      <td>STON/O2. 3101282</td>\n",
              "      <td>7.9250</td>\n",
              "      <td>NaN</td>\n",
              "      <td>S</td>\n",
              "    </tr>\n",
              "    <tr>\n",
              "      <th>3</th>\n",
              "      <td>4</td>\n",
              "      <td>1</td>\n",
              "      <td>1</td>\n",
              "      <td>Futrelle, Mrs. Jacques Heath (Lily May Peel)</td>\n",
              "      <td>female</td>\n",
              "      <td>35.0</td>\n",
              "      <td>1</td>\n",
              "      <td>0</td>\n",
              "      <td>113803</td>\n",
              "      <td>53.1000</td>\n",
              "      <td>C123</td>\n",
              "      <td>S</td>\n",
              "    </tr>\n",
              "    <tr>\n",
              "      <th>4</th>\n",
              "      <td>5</td>\n",
              "      <td>0</td>\n",
              "      <td>3</td>\n",
              "      <td>Allen, Mr. William Henry</td>\n",
              "      <td>male</td>\n",
              "      <td>35.0</td>\n",
              "      <td>0</td>\n",
              "      <td>0</td>\n",
              "      <td>373450</td>\n",
              "      <td>8.0500</td>\n",
              "      <td>NaN</td>\n",
              "      <td>S</td>\n",
              "    </tr>\n",
              "  </tbody>\n",
              "</table>\n",
              "</div>\n",
              "    <div class=\"colab-df-buttons\">\n",
              "\n",
              "  <div class=\"colab-df-container\">\n",
              "    <button class=\"colab-df-convert\" onclick=\"convertToInteractive('df-875166b5-2af0-4331-8d59-493b89b577f7')\"\n",
              "            title=\"Convert this dataframe to an interactive table.\"\n",
              "            style=\"display:none;\">\n",
              "\n",
              "  <svg xmlns=\"http://www.w3.org/2000/svg\" height=\"24px\" viewBox=\"0 -960 960 960\">\n",
              "    <path d=\"M120-120v-720h720v720H120Zm60-500h600v-160H180v160Zm220 220h160v-160H400v160Zm0 220h160v-160H400v160ZM180-400h160v-160H180v160Zm440 0h160v-160H620v160ZM180-180h160v-160H180v160Zm440 0h160v-160H620v160Z\"/>\n",
              "  </svg>\n",
              "    </button>\n",
              "\n",
              "  <style>\n",
              "    .colab-df-container {\n",
              "      display:flex;\n",
              "      gap: 12px;\n",
              "    }\n",
              "\n",
              "    .colab-df-convert {\n",
              "      background-color: #E8F0FE;\n",
              "      border: none;\n",
              "      border-radius: 50%;\n",
              "      cursor: pointer;\n",
              "      display: none;\n",
              "      fill: #1967D2;\n",
              "      height: 32px;\n",
              "      padding: 0 0 0 0;\n",
              "      width: 32px;\n",
              "    }\n",
              "\n",
              "    .colab-df-convert:hover {\n",
              "      background-color: #E2EBFA;\n",
              "      box-shadow: 0px 1px 2px rgba(60, 64, 67, 0.3), 0px 1px 3px 1px rgba(60, 64, 67, 0.15);\n",
              "      fill: #174EA6;\n",
              "    }\n",
              "\n",
              "    .colab-df-buttons div {\n",
              "      margin-bottom: 4px;\n",
              "    }\n",
              "\n",
              "    [theme=dark] .colab-df-convert {\n",
              "      background-color: #3B4455;\n",
              "      fill: #D2E3FC;\n",
              "    }\n",
              "\n",
              "    [theme=dark] .colab-df-convert:hover {\n",
              "      background-color: #434B5C;\n",
              "      box-shadow: 0px 1px 3px 1px rgba(0, 0, 0, 0.15);\n",
              "      filter: drop-shadow(0px 1px 2px rgba(0, 0, 0, 0.3));\n",
              "      fill: #FFFFFF;\n",
              "    }\n",
              "  </style>\n",
              "\n",
              "    <script>\n",
              "      const buttonEl =\n",
              "        document.querySelector('#df-875166b5-2af0-4331-8d59-493b89b577f7 button.colab-df-convert');\n",
              "      buttonEl.style.display =\n",
              "        google.colab.kernel.accessAllowed ? 'block' : 'none';\n",
              "\n",
              "      async function convertToInteractive(key) {\n",
              "        const element = document.querySelector('#df-875166b5-2af0-4331-8d59-493b89b577f7');\n",
              "        const dataTable =\n",
              "          await google.colab.kernel.invokeFunction('convertToInteractive',\n",
              "                                                    [key], {});\n",
              "        if (!dataTable) return;\n",
              "\n",
              "        const docLinkHtml = 'Like what you see? Visit the ' +\n",
              "          '<a target=\"_blank\" href=https://colab.research.google.com/notebooks/data_table.ipynb>data table notebook</a>'\n",
              "          + ' to learn more about interactive tables.';\n",
              "        element.innerHTML = '';\n",
              "        dataTable['output_type'] = 'display_data';\n",
              "        await google.colab.output.renderOutput(dataTable, element);\n",
              "        const docLink = document.createElement('div');\n",
              "        docLink.innerHTML = docLinkHtml;\n",
              "        element.appendChild(docLink);\n",
              "      }\n",
              "    </script>\n",
              "  </div>\n",
              "\n",
              "\n",
              "<div id=\"df-fc106d2b-3875-4550-944f-a2504e9249bd\">\n",
              "  <button class=\"colab-df-quickchart\" onclick=\"quickchart('df-fc106d2b-3875-4550-944f-a2504e9249bd')\"\n",
              "            title=\"Suggest charts\"\n",
              "            style=\"display:none;\">\n",
              "\n",
              "<svg xmlns=\"http://www.w3.org/2000/svg\" height=\"24px\"viewBox=\"0 0 24 24\"\n",
              "     width=\"24px\">\n",
              "    <g>\n",
              "        <path d=\"M19 3H5c-1.1 0-2 .9-2 2v14c0 1.1.9 2 2 2h14c1.1 0 2-.9 2-2V5c0-1.1-.9-2-2-2zM9 17H7v-7h2v7zm4 0h-2V7h2v10zm4 0h-2v-4h2v4z\"/>\n",
              "    </g>\n",
              "</svg>\n",
              "  </button>\n",
              "\n",
              "<style>\n",
              "  .colab-df-quickchart {\n",
              "      --bg-color: #E8F0FE;\n",
              "      --fill-color: #1967D2;\n",
              "      --hover-bg-color: #E2EBFA;\n",
              "      --hover-fill-color: #174EA6;\n",
              "      --disabled-fill-color: #AAA;\n",
              "      --disabled-bg-color: #DDD;\n",
              "  }\n",
              "\n",
              "  [theme=dark] .colab-df-quickchart {\n",
              "      --bg-color: #3B4455;\n",
              "      --fill-color: #D2E3FC;\n",
              "      --hover-bg-color: #434B5C;\n",
              "      --hover-fill-color: #FFFFFF;\n",
              "      --disabled-bg-color: #3B4455;\n",
              "      --disabled-fill-color: #666;\n",
              "  }\n",
              "\n",
              "  .colab-df-quickchart {\n",
              "    background-color: var(--bg-color);\n",
              "    border: none;\n",
              "    border-radius: 50%;\n",
              "    cursor: pointer;\n",
              "    display: none;\n",
              "    fill: var(--fill-color);\n",
              "    height: 32px;\n",
              "    padding: 0;\n",
              "    width: 32px;\n",
              "  }\n",
              "\n",
              "  .colab-df-quickchart:hover {\n",
              "    background-color: var(--hover-bg-color);\n",
              "    box-shadow: 0 1px 2px rgba(60, 64, 67, 0.3), 0 1px 3px 1px rgba(60, 64, 67, 0.15);\n",
              "    fill: var(--button-hover-fill-color);\n",
              "  }\n",
              "\n",
              "  .colab-df-quickchart-complete:disabled,\n",
              "  .colab-df-quickchart-complete:disabled:hover {\n",
              "    background-color: var(--disabled-bg-color);\n",
              "    fill: var(--disabled-fill-color);\n",
              "    box-shadow: none;\n",
              "  }\n",
              "\n",
              "  .colab-df-spinner {\n",
              "    border: 2px solid var(--fill-color);\n",
              "    border-color: transparent;\n",
              "    border-bottom-color: var(--fill-color);\n",
              "    animation:\n",
              "      spin 1s steps(1) infinite;\n",
              "  }\n",
              "\n",
              "  @keyframes spin {\n",
              "    0% {\n",
              "      border-color: transparent;\n",
              "      border-bottom-color: var(--fill-color);\n",
              "      border-left-color: var(--fill-color);\n",
              "    }\n",
              "    20% {\n",
              "      border-color: transparent;\n",
              "      border-left-color: var(--fill-color);\n",
              "      border-top-color: var(--fill-color);\n",
              "    }\n",
              "    30% {\n",
              "      border-color: transparent;\n",
              "      border-left-color: var(--fill-color);\n",
              "      border-top-color: var(--fill-color);\n",
              "      border-right-color: var(--fill-color);\n",
              "    }\n",
              "    40% {\n",
              "      border-color: transparent;\n",
              "      border-right-color: var(--fill-color);\n",
              "      border-top-color: var(--fill-color);\n",
              "    }\n",
              "    60% {\n",
              "      border-color: transparent;\n",
              "      border-right-color: var(--fill-color);\n",
              "    }\n",
              "    80% {\n",
              "      border-color: transparent;\n",
              "      border-right-color: var(--fill-color);\n",
              "      border-bottom-color: var(--fill-color);\n",
              "    }\n",
              "    90% {\n",
              "      border-color: transparent;\n",
              "      border-bottom-color: var(--fill-color);\n",
              "    }\n",
              "  }\n",
              "</style>\n",
              "\n",
              "  <script>\n",
              "    async function quickchart(key) {\n",
              "      const quickchartButtonEl =\n",
              "        document.querySelector('#' + key + ' button');\n",
              "      quickchartButtonEl.disabled = true;  // To prevent multiple clicks.\n",
              "      quickchartButtonEl.classList.add('colab-df-spinner');\n",
              "      try {\n",
              "        const charts = await google.colab.kernel.invokeFunction(\n",
              "            'suggestCharts', [key], {});\n",
              "      } catch (error) {\n",
              "        console.error('Error during call to suggestCharts:', error);\n",
              "      }\n",
              "      quickchartButtonEl.classList.remove('colab-df-spinner');\n",
              "      quickchartButtonEl.classList.add('colab-df-quickchart-complete');\n",
              "    }\n",
              "    (() => {\n",
              "      let quickchartButtonEl =\n",
              "        document.querySelector('#df-fc106d2b-3875-4550-944f-a2504e9249bd button');\n",
              "      quickchartButtonEl.style.display =\n",
              "        google.colab.kernel.accessAllowed ? 'block' : 'none';\n",
              "    })();\n",
              "  </script>\n",
              "</div>\n",
              "\n",
              "    </div>\n",
              "  </div>\n"
            ],
            "application/vnd.google.colaboratory.intrinsic+json": {
              "type": "dataframe",
              "variable_name": "df",
              "summary": "{\n  \"name\": \"df\",\n  \"rows\": 891,\n  \"fields\": [\n    {\n      \"column\": \"PassengerId\",\n      \"properties\": {\n        \"dtype\": \"number\",\n        \"std\": 257,\n        \"min\": 1,\n        \"max\": 891,\n        \"num_unique_values\": 891,\n        \"samples\": [\n          710,\n          440,\n          841\n        ],\n        \"semantic_type\": \"\",\n        \"description\": \"\"\n      }\n    },\n    {\n      \"column\": \"Survived\",\n      \"properties\": {\n        \"dtype\": \"number\",\n        \"std\": 0,\n        \"min\": 0,\n        \"max\": 1,\n        \"num_unique_values\": 2,\n        \"samples\": [\n          1,\n          0\n        ],\n        \"semantic_type\": \"\",\n        \"description\": \"\"\n      }\n    },\n    {\n      \"column\": \"Pclass\",\n      \"properties\": {\n        \"dtype\": \"number\",\n        \"std\": 0,\n        \"min\": 1,\n        \"max\": 3,\n        \"num_unique_values\": 3,\n        \"samples\": [\n          3,\n          1\n        ],\n        \"semantic_type\": \"\",\n        \"description\": \"\"\n      }\n    },\n    {\n      \"column\": \"Name\",\n      \"properties\": {\n        \"dtype\": \"string\",\n        \"num_unique_values\": 891,\n        \"samples\": [\n          \"Moubarek, Master. Halim Gonios (\\\"William George\\\")\",\n          \"Kvillner, Mr. Johan Henrik Johannesson\"\n        ],\n        \"semantic_type\": \"\",\n        \"description\": \"\"\n      }\n    },\n    {\n      \"column\": \"Sex\",\n      \"properties\": {\n        \"dtype\": \"category\",\n        \"num_unique_values\": 2,\n        \"samples\": [\n          \"female\",\n          \"male\"\n        ],\n        \"semantic_type\": \"\",\n        \"description\": \"\"\n      }\n    },\n    {\n      \"column\": \"Age\",\n      \"properties\": {\n        \"dtype\": \"number\",\n        \"std\": 14.526497332334044,\n        \"min\": 0.42,\n        \"max\": 80.0,\n        \"num_unique_values\": 88,\n        \"samples\": [\n          0.75,\n          22.0\n        ],\n        \"semantic_type\": \"\",\n        \"description\": \"\"\n      }\n    },\n    {\n      \"column\": \"SibSp\",\n      \"properties\": {\n        \"dtype\": \"number\",\n        \"std\": 1,\n        \"min\": 0,\n        \"max\": 8,\n        \"num_unique_values\": 7,\n        \"samples\": [\n          1,\n          0\n        ],\n        \"semantic_type\": \"\",\n        \"description\": \"\"\n      }\n    },\n    {\n      \"column\": \"Parch\",\n      \"properties\": {\n        \"dtype\": \"number\",\n        \"std\": 0,\n        \"min\": 0,\n        \"max\": 6,\n        \"num_unique_values\": 7,\n        \"samples\": [\n          0,\n          1\n        ],\n        \"semantic_type\": \"\",\n        \"description\": \"\"\n      }\n    },\n    {\n      \"column\": \"Ticket\",\n      \"properties\": {\n        \"dtype\": \"string\",\n        \"num_unique_values\": 681,\n        \"samples\": [\n          \"11774\",\n          \"248740\"\n        ],\n        \"semantic_type\": \"\",\n        \"description\": \"\"\n      }\n    },\n    {\n      \"column\": \"Fare\",\n      \"properties\": {\n        \"dtype\": \"number\",\n        \"std\": 49.693428597180905,\n        \"min\": 0.0,\n        \"max\": 512.3292,\n        \"num_unique_values\": 248,\n        \"samples\": [\n          11.2417,\n          51.8625\n        ],\n        \"semantic_type\": \"\",\n        \"description\": \"\"\n      }\n    },\n    {\n      \"column\": \"Cabin\",\n      \"properties\": {\n        \"dtype\": \"category\",\n        \"num_unique_values\": 147,\n        \"samples\": [\n          \"D45\",\n          \"B49\"\n        ],\n        \"semantic_type\": \"\",\n        \"description\": \"\"\n      }\n    },\n    {\n      \"column\": \"Embarked\",\n      \"properties\": {\n        \"dtype\": \"category\",\n        \"num_unique_values\": 3,\n        \"samples\": [\n          \"S\",\n          \"C\"\n        ],\n        \"semantic_type\": \"\",\n        \"description\": \"\"\n      }\n    }\n  ]\n}"
            }
          },
          "metadata": {},
          "execution_count": 3
        }
      ]
    },
    {
      "cell_type": "code",
      "source": [
        "print(\"Before removing missing values:\\n\",df.isnull().sum())"
      ],
      "metadata": {
        "colab": {
          "base_uri": "https://localhost:8080/"
        },
        "id": "IMdWFioMDhmZ",
        "outputId": "28900c7e-5a88-4553-be80-ad9d0d4ec5fe"
      },
      "execution_count": 7,
      "outputs": [
        {
          "output_type": "stream",
          "name": "stdout",
          "text": [
            "Before removing missing values:\n",
            " PassengerId      0\n",
            "Survived         0\n",
            "Pclass           0\n",
            "Name             0\n",
            "Sex              0\n",
            "Age            177\n",
            "SibSp            0\n",
            "Parch            0\n",
            "Ticket           0\n",
            "Fare             0\n",
            "Cabin          687\n",
            "Embarked         2\n",
            "dtype: int64\n"
          ]
        }
      ]
    },
    {
      "cell_type": "code",
      "source": [
        "#Remove Rows with Missing Values--\n",
        "#This will remove all rows where at least one column has a missing value.\n",
        "df_cleanRows = df.dropna()\n",
        "print(\"Before removing rows:\\n\",df.shape)\n",
        "print(\"After removing rows:\\n\",df_cleanRows.shape)\n",
        "print(\"Remaining Missing vaues:\\n\",df_cleanRows.isnull().sum())"
      ],
      "metadata": {
        "colab": {
          "base_uri": "https://localhost:8080/"
        },
        "id": "uArpwsAbEhlX",
        "outputId": "02fbd0c3-a992-41f1-958b-ca695f241700"
      },
      "execution_count": 9,
      "outputs": [
        {
          "output_type": "stream",
          "name": "stdout",
          "text": [
            "Before removing rows:\n",
            " (891, 12)\n",
            "After removing rows:\n",
            " (183, 12)\n",
            "Remaining Missing vaues:\n",
            " PassengerId    0\n",
            "Survived       0\n",
            "Pclass         0\n",
            "Name           0\n",
            "Sex            0\n",
            "Age            0\n",
            "SibSp          0\n",
            "Parch          0\n",
            "Ticket         0\n",
            "Fare           0\n",
            "Cabin          0\n",
            "Embarked       0\n",
            "dtype: int64\n"
          ]
        }
      ]
    },
    {
      "cell_type": "code",
      "source": [
        "#Since Cabin has 687 missing values, a lot of rows will be removed.\n",
        "#This may reduce our dataset too much, so we usually avoid this unless missing values are few.\n",
        "#It might be better to remove the entire column instead.\n",
        "df_cleanCols = df.drop(columns = ['Cabin'])\n",
        "print(\"Before removing columns:\\n\",df.shape)\n",
        "print(\"After removing columns:\\n\",df_cleanCols.shape)\n",
        "print(\"Remaining Missing vaues:\\n\",df_cleanCols.isnull().sum())"
      ],
      "metadata": {
        "colab": {
          "base_uri": "https://localhost:8080/"
        },
        "id": "i20zGXQIFkGd",
        "outputId": "04fbf652-177a-4c57-ec87-cfc2234b7a24"
      },
      "execution_count": 13,
      "outputs": [
        {
          "output_type": "stream",
          "name": "stdout",
          "text": [
            "Before removing columns:\n",
            " (891, 12)\n",
            "After removing columns:\n",
            " (891, 11)\n",
            "Remaining Missing vaues:\n",
            " PassengerId      0\n",
            "Survived         0\n",
            "Pclass           0\n",
            "Name             0\n",
            "Sex              0\n",
            "Age            177\n",
            "SibSp            0\n",
            "Parch            0\n",
            "Ticket           0\n",
            "Fare             0\n",
            "Embarked         2\n",
            "dtype: int64\n"
          ]
        }
      ]
    },
    {
      "cell_type": "markdown",
      "source": [
        "# Imputation\n",
        "\n",
        "*   Univariate\n",
        "*   Multivariate\n",
        "\n"
      ],
      "metadata": {
        "id": "k5RcrM0pGXfD"
      }
    },
    {
      "cell_type": "markdown",
      "source": [
        "# Univariate\n",
        "\n",
        "---\n",
        "\n",
        "\n",
        "*   Numerical - Meand and Median, Random, End of distribution\n",
        "*   Categorical - Mode, Missing Category imputation\n",
        "\n",
        "\n"
      ],
      "metadata": {
        "id": "1k86rSMUGo1y"
      }
    },
    {
      "cell_type": "code",
      "source": [
        "#Mean Imputation\n",
        "df_mean = df.copy()\n",
        "df_mean['Age'] = df_mean['Age'].fillna(df_mean['Age'].mean())\n",
        "print(\"Missing values in Age:\",df['Age'].isnull().sum())\n",
        "print(\"After imputing mean in missing values:\",df_mean['Age'].isnull().sum())"
      ],
      "metadata": {
        "colab": {
          "base_uri": "https://localhost:8080/"
        },
        "id": "8YuoOl8GGZ2x",
        "outputId": "91291810-47de-4cc2-de19-1dbceea10fae"
      },
      "execution_count": 18,
      "outputs": [
        {
          "output_type": "stream",
          "name": "stdout",
          "text": [
            "Missing values in Age: 177\n",
            "After imputing mean in missing values: 0\n"
          ]
        }
      ]
    },
    {
      "cell_type": "code",
      "source": [
        "#Median Imputation\n",
        "df_median = df.copy()\n",
        "df_median['Age'] = df_median['Age'].fillna(df_median['Age'].median())\n",
        "print(\"Missing values present in Cabin:\", df['Age'].isnull().sum())\n",
        "print(\"After imputing Median in missing values:\", df_median['Age'].isnull().sum())"
      ],
      "metadata": {
        "colab": {
          "base_uri": "https://localhost:8080/"
        },
        "id": "Jw_HKQ5OIuAh",
        "outputId": "8b7e9959-68bb-4448-e002-9e8bd0f3c38c"
      },
      "execution_count": 23,
      "outputs": [
        {
          "output_type": "stream",
          "name": "stdout",
          "text": [
            "Missing values present in Cabin: 177\n",
            "After imputing Median in missing values: 0\n"
          ]
        }
      ]
    },
    {
      "cell_type": "code",
      "source": [
        "#Random Value\n",
        "#Filling missing value with Random Numbers -\n",
        "df.loc[df['Age'].isnull(), 'Age'] = np.random.randint(10, 80, size=df['Age'].isnull().sum())\n",
        "print(\"Missing values in Age:\", df['Age'].isnull().sum())\n",
        "#Fill missing values in the Embarked column with randomly chosen existing values from the same column -\n",
        "df['Embarked'] = df['Embarked'].fillna(np.random.choice(df['Embarked'].dropna().values))\n",
        "print(\"Missing values in Embarked:\", df['Embarked'].isnull().sum())\n",
        "#Assign a Fixed Random Placeholder (Like 999) -\n",
        "df['Cabin'] =  df['Cabin'].fillna('999')\n",
        "print(\"Missing values in Cabin:\", df['Cabin'].isnull().sum())"
      ],
      "metadata": {
        "colab": {
          "base_uri": "https://localhost:8080/"
        },
        "id": "c9UrR6WIKFPh",
        "outputId": "15b4c0f6-0c3c-42c2-9fef-76c076080a63"
      },
      "execution_count": 28,
      "outputs": [
        {
          "output_type": "stream",
          "name": "stdout",
          "text": [
            "Missing values in Age: 0\n",
            "Missing values in Embarked: 0\n",
            "Missing values in Cabin: 0\n"
          ]
        }
      ]
    },
    {
      "cell_type": "code",
      "source": [
        "#End Of Distribution\n",
        "print(df['Age'].describe())"
      ],
      "metadata": {
        "colab": {
          "base_uri": "https://localhost:8080/"
        },
        "id": "LgGysnAyP8nT",
        "outputId": "93cf1ad4-b68f-49f0-bae1-62c93ad4d68a"
      },
      "execution_count": 29,
      "outputs": [
        {
          "output_type": "stream",
          "name": "stdout",
          "text": [
            "count    891.000000\n",
            "mean      33.076510\n",
            "std       17.414124\n",
            "min        0.420000\n",
            "25%       21.000000\n",
            "50%       30.000000\n",
            "75%       44.000000\n",
            "max       80.000000\n",
            "Name: Age, dtype: float64\n"
          ]
        }
      ]
    },
    {
      "cell_type": "code",
      "source": [
        "extreme_value = df['Age'].mean() + 3 * df['Age'].std()\n",
        "df['Age'].fillna(extreme_value)\n",
        "print(\"After EoD:\",df['Age'].isnull().sum())"
      ],
      "metadata": {
        "colab": {
          "base_uri": "https://localhost:8080/"
        },
        "id": "2I6hZK3JQF81",
        "outputId": "a20055db-9619-4f23-c57a-490952fd4ac9"
      },
      "execution_count": 37,
      "outputs": [
        {
          "output_type": "stream",
          "name": "stdout",
          "text": [
            "After EoD: 0\n"
          ]
        }
      ]
    },
    {
      "cell_type": "code",
      "source": [
        "#Mode Imputation\n",
        "df_mode = df.copy()\n",
        "df_mode['Embarked'] = df_mode['Embarked'].fillna(df_mode['Embarked'].mode()[0])\n",
        "print(\"After Mode Imputation:\", df_mode['Embarked'].isnull().sum())"
      ],
      "metadata": {
        "colab": {
          "base_uri": "https://localhost:8080/"
        },
        "id": "LzAeomNaQu_C",
        "outputId": "d7ec8c84-86d1-4508-a9db-d5c900d24cea"
      },
      "execution_count": 34,
      "outputs": [
        {
          "output_type": "stream",
          "name": "stdout",
          "text": [
            "After Mode Imputation: 0\n"
          ]
        }
      ]
    },
    {
      "cell_type": "code",
      "source": [
        "#Missing category Imputation\n",
        "df_missing_cat = df.copy()\n",
        "df_missing_cat['Embarked'] = df_missing_cat['Embarked'].fillna('Missing')\n",
        "print(\"After Missing Category Imputation:\",df_missing_cat['Embarked'].isnull().sum())"
      ],
      "metadata": {
        "colab": {
          "base_uri": "https://localhost:8080/"
        },
        "id": "zvS9mbZhSBO0",
        "outputId": "675d5789-6b78-4c4c-de5b-75317e6fa827"
      },
      "execution_count": 35,
      "outputs": [
        {
          "output_type": "stream",
          "name": "stdout",
          "text": [
            "After Missing Category Imputation: 0\n"
          ]
        }
      ]
    },
    {
      "cell_type": "markdown",
      "source": [
        "# Multivariate\n",
        "\n",
        "---\n",
        "\n",
        "\n",
        "\n",
        "*   KNN Imputer\n",
        "*   Iterative Imputer\n",
        "\n"
      ],
      "metadata": {
        "id": "C8lU5vp0SzmC"
      }
    },
    {
      "cell_type": "code",
      "source": [
        "df2 = pd.read_csv('AmesHousing.csv')\n",
        "print(\"Missing values in this dataset\\n:\",df2.isnull().sum())"
      ],
      "metadata": {
        "colab": {
          "base_uri": "https://localhost:8080/"
        },
        "id": "tqpj2bm7ToFW",
        "outputId": "37969a60-e540-43f8-d507-a41e537fe8fb"
      },
      "execution_count": 42,
      "outputs": [
        {
          "output_type": "stream",
          "name": "stdout",
          "text": [
            "Missing values in this dataset\n",
            ": Order               0\n",
            "PID                 0\n",
            "MS SubClass         0\n",
            "MS Zoning           0\n",
            "Lot Frontage      490\n",
            "                 ... \n",
            "Mo Sold             0\n",
            "Yr Sold             0\n",
            "Sale Type           0\n",
            "Sale Condition      0\n",
            "SalePrice           0\n",
            "Length: 82, dtype: int64\n"
          ]
        }
      ]
    },
    {
      "cell_type": "code",
      "source": [
        "df2.head()"
      ],
      "metadata": {
        "colab": {
          "base_uri": "https://localhost:8080/",
          "height": 273
        },
        "id": "ROvaQ9YIUFiq",
        "outputId": "db39d55d-d173-40d6-fd6a-9280a8f0dfe8"
      },
      "execution_count": 43,
      "outputs": [
        {
          "output_type": "execute_result",
          "data": {
            "text/plain": [
              "   Order        PID  MS SubClass MS Zoning  Lot Frontage  Lot Area Street  \\\n",
              "0      1  526301100           20        RL         141.0     31770   Pave   \n",
              "1      2  526350040           20        RH          80.0     11622   Pave   \n",
              "2      3  526351010           20        RL          81.0     14267   Pave   \n",
              "3      4  526353030           20        RL          93.0     11160   Pave   \n",
              "4      5  527105010           60        RL          74.0     13830   Pave   \n",
              "\n",
              "  Alley Lot Shape Land Contour  ... Pool Area Pool QC  Fence Misc Feature  \\\n",
              "0   NaN       IR1          Lvl  ...         0     NaN    NaN          NaN   \n",
              "1   NaN       Reg          Lvl  ...         0     NaN  MnPrv          NaN   \n",
              "2   NaN       IR1          Lvl  ...         0     NaN    NaN         Gar2   \n",
              "3   NaN       Reg          Lvl  ...         0     NaN    NaN          NaN   \n",
              "4   NaN       IR1          Lvl  ...         0     NaN  MnPrv          NaN   \n",
              "\n",
              "  Misc Val Mo Sold Yr Sold Sale Type  Sale Condition  SalePrice  \n",
              "0        0       5    2010       WD           Normal     215000  \n",
              "1        0       6    2010       WD           Normal     105000  \n",
              "2    12500       6    2010       WD           Normal     172000  \n",
              "3        0       4    2010       WD           Normal     244000  \n",
              "4        0       3    2010       WD           Normal     189900  \n",
              "\n",
              "[5 rows x 82 columns]"
            ],
            "text/html": [
              "\n",
              "  <div id=\"df-f3e5f5f5-ca8c-4d1f-b0df-bb5a7e66537b\" class=\"colab-df-container\">\n",
              "    <div>\n",
              "<style scoped>\n",
              "    .dataframe tbody tr th:only-of-type {\n",
              "        vertical-align: middle;\n",
              "    }\n",
              "\n",
              "    .dataframe tbody tr th {\n",
              "        vertical-align: top;\n",
              "    }\n",
              "\n",
              "    .dataframe thead th {\n",
              "        text-align: right;\n",
              "    }\n",
              "</style>\n",
              "<table border=\"1\" class=\"dataframe\">\n",
              "  <thead>\n",
              "    <tr style=\"text-align: right;\">\n",
              "      <th></th>\n",
              "      <th>Order</th>\n",
              "      <th>PID</th>\n",
              "      <th>MS SubClass</th>\n",
              "      <th>MS Zoning</th>\n",
              "      <th>Lot Frontage</th>\n",
              "      <th>Lot Area</th>\n",
              "      <th>Street</th>\n",
              "      <th>Alley</th>\n",
              "      <th>Lot Shape</th>\n",
              "      <th>Land Contour</th>\n",
              "      <th>...</th>\n",
              "      <th>Pool Area</th>\n",
              "      <th>Pool QC</th>\n",
              "      <th>Fence</th>\n",
              "      <th>Misc Feature</th>\n",
              "      <th>Misc Val</th>\n",
              "      <th>Mo Sold</th>\n",
              "      <th>Yr Sold</th>\n",
              "      <th>Sale Type</th>\n",
              "      <th>Sale Condition</th>\n",
              "      <th>SalePrice</th>\n",
              "    </tr>\n",
              "  </thead>\n",
              "  <tbody>\n",
              "    <tr>\n",
              "      <th>0</th>\n",
              "      <td>1</td>\n",
              "      <td>526301100</td>\n",
              "      <td>20</td>\n",
              "      <td>RL</td>\n",
              "      <td>141.0</td>\n",
              "      <td>31770</td>\n",
              "      <td>Pave</td>\n",
              "      <td>NaN</td>\n",
              "      <td>IR1</td>\n",
              "      <td>Lvl</td>\n",
              "      <td>...</td>\n",
              "      <td>0</td>\n",
              "      <td>NaN</td>\n",
              "      <td>NaN</td>\n",
              "      <td>NaN</td>\n",
              "      <td>0</td>\n",
              "      <td>5</td>\n",
              "      <td>2010</td>\n",
              "      <td>WD</td>\n",
              "      <td>Normal</td>\n",
              "      <td>215000</td>\n",
              "    </tr>\n",
              "    <tr>\n",
              "      <th>1</th>\n",
              "      <td>2</td>\n",
              "      <td>526350040</td>\n",
              "      <td>20</td>\n",
              "      <td>RH</td>\n",
              "      <td>80.0</td>\n",
              "      <td>11622</td>\n",
              "      <td>Pave</td>\n",
              "      <td>NaN</td>\n",
              "      <td>Reg</td>\n",
              "      <td>Lvl</td>\n",
              "      <td>...</td>\n",
              "      <td>0</td>\n",
              "      <td>NaN</td>\n",
              "      <td>MnPrv</td>\n",
              "      <td>NaN</td>\n",
              "      <td>0</td>\n",
              "      <td>6</td>\n",
              "      <td>2010</td>\n",
              "      <td>WD</td>\n",
              "      <td>Normal</td>\n",
              "      <td>105000</td>\n",
              "    </tr>\n",
              "    <tr>\n",
              "      <th>2</th>\n",
              "      <td>3</td>\n",
              "      <td>526351010</td>\n",
              "      <td>20</td>\n",
              "      <td>RL</td>\n",
              "      <td>81.0</td>\n",
              "      <td>14267</td>\n",
              "      <td>Pave</td>\n",
              "      <td>NaN</td>\n",
              "      <td>IR1</td>\n",
              "      <td>Lvl</td>\n",
              "      <td>...</td>\n",
              "      <td>0</td>\n",
              "      <td>NaN</td>\n",
              "      <td>NaN</td>\n",
              "      <td>Gar2</td>\n",
              "      <td>12500</td>\n",
              "      <td>6</td>\n",
              "      <td>2010</td>\n",
              "      <td>WD</td>\n",
              "      <td>Normal</td>\n",
              "      <td>172000</td>\n",
              "    </tr>\n",
              "    <tr>\n",
              "      <th>3</th>\n",
              "      <td>4</td>\n",
              "      <td>526353030</td>\n",
              "      <td>20</td>\n",
              "      <td>RL</td>\n",
              "      <td>93.0</td>\n",
              "      <td>11160</td>\n",
              "      <td>Pave</td>\n",
              "      <td>NaN</td>\n",
              "      <td>Reg</td>\n",
              "      <td>Lvl</td>\n",
              "      <td>...</td>\n",
              "      <td>0</td>\n",
              "      <td>NaN</td>\n",
              "      <td>NaN</td>\n",
              "      <td>NaN</td>\n",
              "      <td>0</td>\n",
              "      <td>4</td>\n",
              "      <td>2010</td>\n",
              "      <td>WD</td>\n",
              "      <td>Normal</td>\n",
              "      <td>244000</td>\n",
              "    </tr>\n",
              "    <tr>\n",
              "      <th>4</th>\n",
              "      <td>5</td>\n",
              "      <td>527105010</td>\n",
              "      <td>60</td>\n",
              "      <td>RL</td>\n",
              "      <td>74.0</td>\n",
              "      <td>13830</td>\n",
              "      <td>Pave</td>\n",
              "      <td>NaN</td>\n",
              "      <td>IR1</td>\n",
              "      <td>Lvl</td>\n",
              "      <td>...</td>\n",
              "      <td>0</td>\n",
              "      <td>NaN</td>\n",
              "      <td>MnPrv</td>\n",
              "      <td>NaN</td>\n",
              "      <td>0</td>\n",
              "      <td>3</td>\n",
              "      <td>2010</td>\n",
              "      <td>WD</td>\n",
              "      <td>Normal</td>\n",
              "      <td>189900</td>\n",
              "    </tr>\n",
              "  </tbody>\n",
              "</table>\n",
              "<p>5 rows × 82 columns</p>\n",
              "</div>\n",
              "    <div class=\"colab-df-buttons\">\n",
              "\n",
              "  <div class=\"colab-df-container\">\n",
              "    <button class=\"colab-df-convert\" onclick=\"convertToInteractive('df-f3e5f5f5-ca8c-4d1f-b0df-bb5a7e66537b')\"\n",
              "            title=\"Convert this dataframe to an interactive table.\"\n",
              "            style=\"display:none;\">\n",
              "\n",
              "  <svg xmlns=\"http://www.w3.org/2000/svg\" height=\"24px\" viewBox=\"0 -960 960 960\">\n",
              "    <path d=\"M120-120v-720h720v720H120Zm60-500h600v-160H180v160Zm220 220h160v-160H400v160Zm0 220h160v-160H400v160ZM180-400h160v-160H180v160Zm440 0h160v-160H620v160ZM180-180h160v-160H180v160Zm440 0h160v-160H620v160Z\"/>\n",
              "  </svg>\n",
              "    </button>\n",
              "\n",
              "  <style>\n",
              "    .colab-df-container {\n",
              "      display:flex;\n",
              "      gap: 12px;\n",
              "    }\n",
              "\n",
              "    .colab-df-convert {\n",
              "      background-color: #E8F0FE;\n",
              "      border: none;\n",
              "      border-radius: 50%;\n",
              "      cursor: pointer;\n",
              "      display: none;\n",
              "      fill: #1967D2;\n",
              "      height: 32px;\n",
              "      padding: 0 0 0 0;\n",
              "      width: 32px;\n",
              "    }\n",
              "\n",
              "    .colab-df-convert:hover {\n",
              "      background-color: #E2EBFA;\n",
              "      box-shadow: 0px 1px 2px rgba(60, 64, 67, 0.3), 0px 1px 3px 1px rgba(60, 64, 67, 0.15);\n",
              "      fill: #174EA6;\n",
              "    }\n",
              "\n",
              "    .colab-df-buttons div {\n",
              "      margin-bottom: 4px;\n",
              "    }\n",
              "\n",
              "    [theme=dark] .colab-df-convert {\n",
              "      background-color: #3B4455;\n",
              "      fill: #D2E3FC;\n",
              "    }\n",
              "\n",
              "    [theme=dark] .colab-df-convert:hover {\n",
              "      background-color: #434B5C;\n",
              "      box-shadow: 0px 1px 3px 1px rgba(0, 0, 0, 0.15);\n",
              "      filter: drop-shadow(0px 1px 2px rgba(0, 0, 0, 0.3));\n",
              "      fill: #FFFFFF;\n",
              "    }\n",
              "  </style>\n",
              "\n",
              "    <script>\n",
              "      const buttonEl =\n",
              "        document.querySelector('#df-f3e5f5f5-ca8c-4d1f-b0df-bb5a7e66537b button.colab-df-convert');\n",
              "      buttonEl.style.display =\n",
              "        google.colab.kernel.accessAllowed ? 'block' : 'none';\n",
              "\n",
              "      async function convertToInteractive(key) {\n",
              "        const element = document.querySelector('#df-f3e5f5f5-ca8c-4d1f-b0df-bb5a7e66537b');\n",
              "        const dataTable =\n",
              "          await google.colab.kernel.invokeFunction('convertToInteractive',\n",
              "                                                    [key], {});\n",
              "        if (!dataTable) return;\n",
              "\n",
              "        const docLinkHtml = 'Like what you see? Visit the ' +\n",
              "          '<a target=\"_blank\" href=https://colab.research.google.com/notebooks/data_table.ipynb>data table notebook</a>'\n",
              "          + ' to learn more about interactive tables.';\n",
              "        element.innerHTML = '';\n",
              "        dataTable['output_type'] = 'display_data';\n",
              "        await google.colab.output.renderOutput(dataTable, element);\n",
              "        const docLink = document.createElement('div');\n",
              "        docLink.innerHTML = docLinkHtml;\n",
              "        element.appendChild(docLink);\n",
              "      }\n",
              "    </script>\n",
              "  </div>\n",
              "\n",
              "\n",
              "<div id=\"df-c621fd36-7872-4e70-966d-d5256a2457ac\">\n",
              "  <button class=\"colab-df-quickchart\" onclick=\"quickchart('df-c621fd36-7872-4e70-966d-d5256a2457ac')\"\n",
              "            title=\"Suggest charts\"\n",
              "            style=\"display:none;\">\n",
              "\n",
              "<svg xmlns=\"http://www.w3.org/2000/svg\" height=\"24px\"viewBox=\"0 0 24 24\"\n",
              "     width=\"24px\">\n",
              "    <g>\n",
              "        <path d=\"M19 3H5c-1.1 0-2 .9-2 2v14c0 1.1.9 2 2 2h14c1.1 0 2-.9 2-2V5c0-1.1-.9-2-2-2zM9 17H7v-7h2v7zm4 0h-2V7h2v10zm4 0h-2v-4h2v4z\"/>\n",
              "    </g>\n",
              "</svg>\n",
              "  </button>\n",
              "\n",
              "<style>\n",
              "  .colab-df-quickchart {\n",
              "      --bg-color: #E8F0FE;\n",
              "      --fill-color: #1967D2;\n",
              "      --hover-bg-color: #E2EBFA;\n",
              "      --hover-fill-color: #174EA6;\n",
              "      --disabled-fill-color: #AAA;\n",
              "      --disabled-bg-color: #DDD;\n",
              "  }\n",
              "\n",
              "  [theme=dark] .colab-df-quickchart {\n",
              "      --bg-color: #3B4455;\n",
              "      --fill-color: #D2E3FC;\n",
              "      --hover-bg-color: #434B5C;\n",
              "      --hover-fill-color: #FFFFFF;\n",
              "      --disabled-bg-color: #3B4455;\n",
              "      --disabled-fill-color: #666;\n",
              "  }\n",
              "\n",
              "  .colab-df-quickchart {\n",
              "    background-color: var(--bg-color);\n",
              "    border: none;\n",
              "    border-radius: 50%;\n",
              "    cursor: pointer;\n",
              "    display: none;\n",
              "    fill: var(--fill-color);\n",
              "    height: 32px;\n",
              "    padding: 0;\n",
              "    width: 32px;\n",
              "  }\n",
              "\n",
              "  .colab-df-quickchart:hover {\n",
              "    background-color: var(--hover-bg-color);\n",
              "    box-shadow: 0 1px 2px rgba(60, 64, 67, 0.3), 0 1px 3px 1px rgba(60, 64, 67, 0.15);\n",
              "    fill: var(--button-hover-fill-color);\n",
              "  }\n",
              "\n",
              "  .colab-df-quickchart-complete:disabled,\n",
              "  .colab-df-quickchart-complete:disabled:hover {\n",
              "    background-color: var(--disabled-bg-color);\n",
              "    fill: var(--disabled-fill-color);\n",
              "    box-shadow: none;\n",
              "  }\n",
              "\n",
              "  .colab-df-spinner {\n",
              "    border: 2px solid var(--fill-color);\n",
              "    border-color: transparent;\n",
              "    border-bottom-color: var(--fill-color);\n",
              "    animation:\n",
              "      spin 1s steps(1) infinite;\n",
              "  }\n",
              "\n",
              "  @keyframes spin {\n",
              "    0% {\n",
              "      border-color: transparent;\n",
              "      border-bottom-color: var(--fill-color);\n",
              "      border-left-color: var(--fill-color);\n",
              "    }\n",
              "    20% {\n",
              "      border-color: transparent;\n",
              "      border-left-color: var(--fill-color);\n",
              "      border-top-color: var(--fill-color);\n",
              "    }\n",
              "    30% {\n",
              "      border-color: transparent;\n",
              "      border-left-color: var(--fill-color);\n",
              "      border-top-color: var(--fill-color);\n",
              "      border-right-color: var(--fill-color);\n",
              "    }\n",
              "    40% {\n",
              "      border-color: transparent;\n",
              "      border-right-color: var(--fill-color);\n",
              "      border-top-color: var(--fill-color);\n",
              "    }\n",
              "    60% {\n",
              "      border-color: transparent;\n",
              "      border-right-color: var(--fill-color);\n",
              "    }\n",
              "    80% {\n",
              "      border-color: transparent;\n",
              "      border-right-color: var(--fill-color);\n",
              "      border-bottom-color: var(--fill-color);\n",
              "    }\n",
              "    90% {\n",
              "      border-color: transparent;\n",
              "      border-bottom-color: var(--fill-color);\n",
              "    }\n",
              "  }\n",
              "</style>\n",
              "\n",
              "  <script>\n",
              "    async function quickchart(key) {\n",
              "      const quickchartButtonEl =\n",
              "        document.querySelector('#' + key + ' button');\n",
              "      quickchartButtonEl.disabled = true;  // To prevent multiple clicks.\n",
              "      quickchartButtonEl.classList.add('colab-df-spinner');\n",
              "      try {\n",
              "        const charts = await google.colab.kernel.invokeFunction(\n",
              "            'suggestCharts', [key], {});\n",
              "      } catch (error) {\n",
              "        console.error('Error during call to suggestCharts:', error);\n",
              "      }\n",
              "      quickchartButtonEl.classList.remove('colab-df-spinner');\n",
              "      quickchartButtonEl.classList.add('colab-df-quickchart-complete');\n",
              "    }\n",
              "    (() => {\n",
              "      let quickchartButtonEl =\n",
              "        document.querySelector('#df-c621fd36-7872-4e70-966d-d5256a2457ac button');\n",
              "      quickchartButtonEl.style.display =\n",
              "        google.colab.kernel.accessAllowed ? 'block' : 'none';\n",
              "    })();\n",
              "  </script>\n",
              "</div>\n",
              "\n",
              "    </div>\n",
              "  </div>\n"
            ],
            "application/vnd.google.colaboratory.intrinsic+json": {
              "type": "dataframe",
              "variable_name": "df2"
            }
          },
          "metadata": {},
          "execution_count": 43
        }
      ]
    },
    {
      "cell_type": "code",
      "source": [
        "from sklearn.impute import KNNImputer\n",
        "from sklearn.experimental import enable_iterative_imputer\n",
        "from sklearn.impute import IterativeImputer"
      ],
      "metadata": {
        "id": "7nd0EkkuV6VT"
      },
      "execution_count": 49,
      "outputs": []
    },
    {
      "cell_type": "markdown",
      "source": [
        "Finds k-nearest neighbors: For each missing value, the algorithm finds the k closest rows (neighbors) based on non-missing values.\n",
        "\n",
        "Averages their values: It calculates the mean (or median) of those k neighbors and imputes the missing value.\n",
        "\n",
        "Steps Involved -\n",
        "\n",
        "Identifies missing values in the dataset.\n",
        "\n",
        "Finds k nearest rows using Euclidean distance (or another distance metric).\n",
        "\n",
        "Uses neighbors' values to fill in missing values using their mean/median.\n",
        "Repeats for all missing values."
      ],
      "metadata": {
        "id": "D2SmhGEwaWzY"
      }
    },
    {
      "cell_type": "code",
      "source": [
        "from sklearn.impute import KNNImputer\n",
        "# Ensure column names are clean\n",
        "df2.columns = df2.columns.str.strip()\n",
        "# Select numerical columns only\n",
        "numeric_cols = df2.select_dtypes(include=['number']).columns\n",
        "# Apply the missing value filter only on numeric columns\n",
        "num_cols_with_missing = numeric_cols[df2[numeric_cols].isnull().sum() > 0]\n",
        "# Check if columns exist in df\n",
        "missing_cols_not_found = [col for col in num_cols_with_missing if col not in df2.columns]\n",
        "if missing_cols_not_found:\n",
        "    print(\"These columns were not found in df:\", missing_cols_not_found)\n",
        "else:\n",
        "    # Apply KNN Imputer\n",
        "    knn_imputer = KNNImputer(n_neighbors=5)\n",
        "    df_knn_imputed = df2.copy()\n",
        "    df_knn_imputed[num_cols_with_missing] = knn_imputer.fit_transform(df2[num_cols_with_missing])\n",
        "    print(\" KNN Imputation Done!\")\n"
      ],
      "metadata": {
        "colab": {
          "base_uri": "https://localhost:8080/"
        },
        "id": "BVC_m34zW231",
        "outputId": "f79d8c2f-811f-46da-95fa-15963f184018"
      },
      "execution_count": 59,
      "outputs": [
        {
          "output_type": "stream",
          "name": "stdout",
          "text": [
            " KNN Imputation Done!\n"
          ]
        }
      ]
    },
    {
      "cell_type": "markdown",
      "source": [
        "Uses a predictive modeling approach to estimate missing values.\n",
        "\n",
        "Each missing value is treated as a dependent variable and predicted using other available features.\n",
        "\n",
        "Steps Involved -\n",
        "\n",
        "Identifies missing values in the dataset.\n",
        "\n",
        "Selects one column at a time where values are missing.\n",
        "\n",
        "Uses other columns as features to predict the missing values.\n",
        "\n",
        "Fills in missing values using a machine learning model (default: BayesianRidge regression).\n",
        "\n",
        "Repeats for multiple iterations to refine predictions."
      ],
      "metadata": {
        "id": "GSKYNu-iai7D"
      }
    },
    {
      "cell_type": "code",
      "source": [
        "import pandas as pd\n",
        "from sklearn.impute import IterativeImputer\n",
        "# Ensure column names are clean\n",
        "df2.columns = df2.columns.str.strip()\n",
        "# Select numerical columns only\n",
        "numeric_cols = df2.select_dtypes(include=['number']).columns\n",
        "# Identify numeric columns with missing values\n",
        "num_cols_with_missing = numeric_cols[df2[numeric_cols].isnull().sum() > 0]\n",
        "# Check if columns exist in df\n",
        "missing_cols_not_found = [col for col in num_cols_with_missing if col not in df2.columns]\n",
        "if missing_cols_not_found:\n",
        "    print(\"These columns were not found in df:\", missing_cols_not_found)\n",
        "else:\n",
        "    # Apply Iterative Imputer\n",
        "    iterative_imputer = IterativeImputer(max_iter=10, random_state=42)\n",
        "    df_iterative_imputed = df2.copy()\n",
        "    # Fit and transform the missing values\n",
        "    df_iterative_imputed[num_cols_with_missing] = iterative_imputer.fit_transform(df2[num_cols_with_missing])\n",
        "    print(\"Iterative Imputation Done!\")"
      ],
      "metadata": {
        "colab": {
          "base_uri": "https://localhost:8080/"
        },
        "id": "yi0tEgtTaAix",
        "outputId": "a9cf99a1-b99b-4cdc-ffdd-2a90730224a7"
      },
      "execution_count": 60,
      "outputs": [
        {
          "output_type": "stream",
          "name": "stdout",
          "text": [
            "Iterative Imputation Done!\n"
          ]
        }
      ]
    }
  ]
}