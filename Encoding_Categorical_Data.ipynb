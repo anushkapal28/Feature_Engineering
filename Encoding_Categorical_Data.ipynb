{
  "nbformat": 4,
  "nbformat_minor": 0,
  "metadata": {
    "colab": {
      "provenance": []
    },
    "kernelspec": {
      "name": "python3",
      "display_name": "Python 3"
    },
    "language_info": {
      "name": "python"
    }
  },
  "cells": [
    {
      "cell_type": "markdown",
      "source": [
        "# Categorical data is classified into two types:\n",
        "\n",
        "Ordinal Data: Categorical data with an inherent order (e.g., Low, Medium, High).\n",
        "Nominal Data: Categorical data with no inherent order (e.g., Red, Green, Blue)."
      ],
      "metadata": {
        "id": "s4NXumIoTDDd"
      }
    },
    {
      "cell_type": "markdown",
      "source": [
        "# Encoding Ordinal Data: Ordinal Encoding\n",
        "Assigns integer values based on the category’s order.\n",
        "\n",
        "Example: Low → 0, Medium → 1, High → 2."
      ],
      "metadata": {
        "id": "I2Qf61XLacsX"
      }
    },
    {
      "cell_type": "code",
      "execution_count": 1,
      "metadata": {
        "id": "qdLUNDQmTAjs"
      },
      "outputs": [],
      "source": [
        "import pandas as pd\n",
        "from sklearn.preprocessing import OrdinalEncoder"
      ]
    },
    {
      "cell_type": "code",
      "source": [
        "data = {'experienceLevel' : ['Entry', 'Mid', 'Entry','Senior', 'Mid']}\n",
        "df = pd.DataFrame(data)"
      ],
      "metadata": {
        "id": "Sxk3fvZvbF4Q"
      },
      "execution_count": 3,
      "outputs": []
    },
    {
      "cell_type": "code",
      "source": [
        "experienceOrder = ['Entry', 'Mid', 'Senior']"
      ],
      "metadata": {
        "id": "iL4rH-eHgMCT"
      },
      "execution_count": 4,
      "outputs": []
    },
    {
      "cell_type": "code",
      "source": [
        "#The categories parameter accepts a list of lists, where each inner list specifies the order of values for a column.\n",
        "encoder = OrdinalEncoder(categories=[experienceOrder])"
      ],
      "metadata": {
        "id": "SW0q3d4hgY_m"
      },
      "execution_count": 6,
      "outputs": []
    },
    {
      "cell_type": "code",
      "source": [
        "df['Experience Level Encoder'] = encoder.fit_transform(df[['experienceLevel']])"
      ],
      "metadata": {
        "id": "egxNbFivhVs9"
      },
      "execution_count": 7,
      "outputs": []
    },
    {
      "cell_type": "code",
      "source": [
        "print(df)"
      ],
      "metadata": {
        "colab": {
          "base_uri": "https://localhost:8080/"
        },
        "id": "FZ2h6OFChmlZ",
        "outputId": "fb5a269b-5394-4b7e-f478-f446f84b504b"
      },
      "execution_count": 8,
      "outputs": [
        {
          "output_type": "stream",
          "name": "stdout",
          "text": [
            "  experienceLevel  Experience Level Encoder\n",
            "0           Entry                       0.0\n",
            "1             Mid                       1.0\n",
            "2           Entry                       0.0\n",
            "3          Senior                       2.0\n",
            "4             Mid                       1.0\n"
          ]
        }
      ]
    },
    {
      "cell_type": "markdown",
      "source": [
        "# Encoding Nominal Data: One-Hot Encoding\n",
        "Converts categorical variables into multiple binary (0/1) columns.\n",
        "\n",
        "Suitable when there is no meaningful order.\n",
        "\n",
        "If we have color column Red, Blue, Green\n",
        "\n",
        "Red      Blue       Green\n",
        "\n",
        "1         0           0\n",
        "\n",
        "0         1           0\n",
        "\n",
        "0         0           1"
      ],
      "metadata": {
        "id": "wbxTqYTRiKr9"
      }
    },
    {
      "cell_type": "code",
      "source": [
        "import pandas as pd\n",
        "from sklearn.preprocessing import OneHotEncoder\n",
        "df2 = pd.DataFrame({'City': ['New York', 'London', 'Tokyo', 'New York', 'Tokyo', 'London']})\n",
        "#The reason for using:drop = 'first' is to avoid the dummy variable trap, which is important in statistical models to prevent multicollinearity.\n",
        "encode = OneHotEncoder(drop='first', sparse_output=False)\n",
        "encoded_data = encode.fit_transform(df2[['City']])\n",
        "df_encoded = pd.DataFrame(\n",
        "    encoded_data,\n",
        "    columns=encode.get_feature_names_out(['City'])\n",
        ")\n",
        "print(df_encoded)"
      ],
      "metadata": {
        "colab": {
          "base_uri": "https://localhost:8080/"
        },
        "id": "OfKuCI6RjZ3G",
        "outputId": "a6f1fae1-6799-4bbf-dc84-3ec1b32a46f9"
      },
      "execution_count": 19,
      "outputs": [
        {
          "output_type": "stream",
          "name": "stdout",
          "text": [
            "   City_New York  City_Tokyo\n",
            "0            1.0         0.0\n",
            "1            0.0         0.0\n",
            "2            0.0         1.0\n",
            "3            1.0         0.0\n",
            "4            0.0         1.0\n",
            "5            0.0         0.0\n"
          ]
        }
      ]
    },
    {
      "cell_type": "markdown",
      "source": [
        "Notice how if you know any two columns, you can deduce the third.\n",
        "(City_London, City_New_York → City_Tokyo)\n",
        "\n",
        "This causes multicollinearity, where columns become linearly dependent, confusing models like linear regression.\n"
      ],
      "metadata": {
        "id": "r9F1io4mmpa8"
      }
    }
  ]
}